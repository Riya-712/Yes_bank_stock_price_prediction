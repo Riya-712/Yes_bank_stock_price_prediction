{
 "cells": [
  {
   "cell_type": "markdown",
   "id": "5abd5b4d-f542-49c1-870d-b9c8d075c4d8",
   "metadata": {},
   "source": [
    "# Riya Raut"
   ]
  },
  {
   "cell_type": "markdown",
   "id": "18d6290e-9c10-40e9-9f09-8ac0f62d3a49",
   "metadata": {},
   "source": [
    "## Roll No.- DS24MS23"
   ]
  },
  {
   "cell_type": "markdown",
   "id": "6bff8cd0-f2b5-4b5a-a459-d73a1ac680b3",
   "metadata": {},
   "source": [
    "# Yes Bank Stock Closing Price Prediction"
   ]
  },
  {
   "cell_type": "markdown",
   "id": "20c76243-da8e-4b03-b4b0-2560c09d524a",
   "metadata": {},
   "source": [
    "### Problem Statement"
   ]
  },
  {
   "cell_type": "markdown",
   "id": "9618ec03-3d7e-4056-a98f-61fb2d285544",
   "metadata": {},
   "source": [
    "The aim of this project is to develop a predictive model that can accurately forecast the closing stock price of Yes Bank based on historical stock data. The dataset includes key stock price indicators—such as opening, highest, lowest, and closing prices— since the bank's inception."
   ]
  },
  {
   "cell_type": "markdown",
   "id": "a12d8fe2-c1a1-4caa-97ed-622e4018b2c8",
   "metadata": {},
   "source": [
    "### Importing Packages"
   ]
  },
  {
   "cell_type": "code",
   "execution_count": 7,
   "id": "6993eda4-9368-41e9-bc33-eb45eca170af",
   "metadata": {},
   "outputs": [],
   "source": [
    "import numpy as np\n",
    "import pandas as pd\n",
    "from matplotlib import pyplot as plt\n",
    "import seaborn as sns\n",
    "%matplotlib inline\n",
    "\n",
    "import warnings\n",
    "warnings.filterwarnings(\"ignore\")"
   ]
  },
  {
   "cell_type": "markdown",
   "id": "6225edf6-16ad-4351-a3ca-2bf021f6bac4",
   "metadata": {},
   "source": [
    "### Load Dataset"
   ]
  },
  {
   "cell_type": "code",
   "execution_count": 9,
   "id": "869a4c09-ef16-4682-8590-133bd033481a",
   "metadata": {},
   "outputs": [],
   "source": [
    "df = pd.read_csv(\"https://raw.githubusercontent.com/rahulinchal/SPPU/refs/heads/main/Data/data_YesBank_StockPrices.csv\")"
   ]
  },
  {
   "cell_type": "markdown",
   "id": "0f4e5091-bb31-4e5a-8bd4-bc2df569d278",
   "metadata": {},
   "source": [
    "### Data Variables"
   ]
  },
  {
   "cell_type": "markdown",
   "id": "78a75ad2-6e9c-40be-8967-6597adbd4c38",
   "metadata": {},
   "source": [
    "1. date- Date of the record.\n",
    "2. open- Opening price \n",
    "3. high- Highest price \n",
    "4. low- Lowest price \n",
    "5. close- Closing price "
   ]
  },
  {
   "cell_type": "code",
   "execution_count": 12,
   "id": "e738e4c3-84e1-4060-8ce6-07d3db81d3b9",
   "metadata": {},
   "outputs": [
    {
     "data": {
      "text/html": [
       "<div>\n",
       "<style scoped>\n",
       "    .dataframe tbody tr th:only-of-type {\n",
       "        vertical-align: middle;\n",
       "    }\n",
       "\n",
       "    .dataframe tbody tr th {\n",
       "        vertical-align: top;\n",
       "    }\n",
       "\n",
       "    .dataframe thead th {\n",
       "        text-align: right;\n",
       "    }\n",
       "</style>\n",
       "<table border=\"1\" class=\"dataframe\">\n",
       "  <thead>\n",
       "    <tr style=\"text-align: right;\">\n",
       "      <th></th>\n",
       "      <th>Date</th>\n",
       "      <th>Open</th>\n",
       "      <th>High</th>\n",
       "      <th>Low</th>\n",
       "      <th>Close</th>\n",
       "    </tr>\n",
       "  </thead>\n",
       "  <tbody>\n",
       "    <tr>\n",
       "      <th>0</th>\n",
       "      <td>Jul-05</td>\n",
       "      <td>13.00</td>\n",
       "      <td>14.00</td>\n",
       "      <td>11.25</td>\n",
       "      <td>12.46</td>\n",
       "    </tr>\n",
       "    <tr>\n",
       "      <th>1</th>\n",
       "      <td>Aug-05</td>\n",
       "      <td>12.58</td>\n",
       "      <td>14.88</td>\n",
       "      <td>12.55</td>\n",
       "      <td>13.42</td>\n",
       "    </tr>\n",
       "    <tr>\n",
       "      <th>2</th>\n",
       "      <td>Sep-05</td>\n",
       "      <td>13.48</td>\n",
       "      <td>14.87</td>\n",
       "      <td>12.27</td>\n",
       "      <td>13.30</td>\n",
       "    </tr>\n",
       "    <tr>\n",
       "      <th>3</th>\n",
       "      <td>Oct-05</td>\n",
       "      <td>13.20</td>\n",
       "      <td>14.47</td>\n",
       "      <td>12.40</td>\n",
       "      <td>12.99</td>\n",
       "    </tr>\n",
       "    <tr>\n",
       "      <th>4</th>\n",
       "      <td>Nov-05</td>\n",
       "      <td>13.35</td>\n",
       "      <td>13.88</td>\n",
       "      <td>12.88</td>\n",
       "      <td>13.41</td>\n",
       "    </tr>\n",
       "  </tbody>\n",
       "</table>\n",
       "</div>"
      ],
      "text/plain": [
       "     Date   Open   High    Low  Close\n",
       "0  Jul-05  13.00  14.00  11.25  12.46\n",
       "1  Aug-05  12.58  14.88  12.55  13.42\n",
       "2  Sep-05  13.48  14.87  12.27  13.30\n",
       "3  Oct-05  13.20  14.47  12.40  12.99\n",
       "4  Nov-05  13.35  13.88  12.88  13.41"
      ]
     },
     "execution_count": 12,
     "metadata": {},
     "output_type": "execute_result"
    }
   ],
   "source": [
    "# head displays the first 5 rows to give a preview of the data\n",
    "df.head()"
   ]
  },
  {
   "cell_type": "code",
   "execution_count": 13,
   "id": "b972f19b-4f6a-452c-90f8-cc24aa777eef",
   "metadata": {},
   "outputs": [
    {
     "data": {
      "text/plain": [
       "(185, 5)"
      ]
     },
     "execution_count": 13,
     "metadata": {},
     "output_type": "execute_result"
    }
   ],
   "source": [
    "# shape shows how many rows and columns it contains.\n",
    "df.shape"
   ]
  },
  {
   "cell_type": "code",
   "execution_count": 14,
   "id": "694405d5-0ebe-40c0-b55f-1b2b9d80226e",
   "metadata": {},
   "outputs": [
    {
     "name": "stdout",
     "output_type": "stream",
     "text": [
      "<class 'pandas.core.frame.DataFrame'>\n",
      "RangeIndex: 185 entries, 0 to 184\n",
      "Data columns (total 5 columns):\n",
      " #   Column  Non-Null Count  Dtype  \n",
      "---  ------  --------------  -----  \n",
      " 0   Date    185 non-null    object \n",
      " 1   Open    185 non-null    float64\n",
      " 2   High    185 non-null    float64\n",
      " 3   Low     185 non-null    float64\n",
      " 4   Close   185 non-null    float64\n",
      "dtypes: float64(4), object(1)\n",
      "memory usage: 7.4+ KB\n"
     ]
    }
   ],
   "source": [
    "df.info()"
   ]
  },
  {
   "cell_type": "markdown",
   "id": "9a567ce9-c55f-4990-b829-9e9469e335bc",
   "metadata": {},
   "source": [
    "### Changing the datatype of Date column to datetime and extracting the Year, Month and Day"
   ]
  },
  {
   "cell_type": "code",
   "execution_count": 16,
   "id": "0c43c030-2a76-4344-bd63-750d303fa1fd",
   "metadata": {},
   "outputs": [],
   "source": [
    "df['Date'] = pd.to_datetime(df['Date'], format = '%b-%y')"
   ]
  },
  {
   "cell_type": "code",
   "execution_count": 17,
   "id": "3d7eec2c-b17a-4034-98ac-a8a19e1678d7",
   "metadata": {},
   "outputs": [],
   "source": [
    "import datetime as dt"
   ]
  },
  {
   "cell_type": "code",
   "execution_count": 18,
   "id": "c7728279-894d-46cf-b2db-6c4626281024",
   "metadata": {},
   "outputs": [],
   "source": [
    "df[\"year\"] = df[\"Date\"].dt.year\n",
    "df[\"month\"] = df[\"Date\"].dt.month\n",
    "df[\"day\"] = df[\"Date\"].dt.day"
   ]
  },
  {
   "cell_type": "code",
   "execution_count": 19,
   "id": "32636b39-3c8d-4e16-ad37-4f3f55330b30",
   "metadata": {},
   "outputs": [],
   "source": [
    "# creating new columns of day, month and year\n",
    "df[\"year\"] = df[\"Date\"].dt.year\n",
    "df[\"month\"] = df[\"Date\"].dt.month\n",
    "df[\"day\"] = df[\"Date\"].dt.day_name()"
   ]
  },
  {
   "cell_type": "code",
   "execution_count": 20,
   "id": "0b22c26f-be90-48cb-b13a-c40b9fb8e388",
   "metadata": {},
   "outputs": [],
   "source": [
    "df['day_of_week'] = df['Date'].dt.dayofweek"
   ]
  },
  {
   "cell_type": "code",
   "execution_count": 21,
   "id": "5e183f2e-9687-459f-b3e9-25db54e68230",
   "metadata": {},
   "outputs": [
    {
     "data": {
      "text/html": [
       "<div>\n",
       "<style scoped>\n",
       "    .dataframe tbody tr th:only-of-type {\n",
       "        vertical-align: middle;\n",
       "    }\n",
       "\n",
       "    .dataframe tbody tr th {\n",
       "        vertical-align: top;\n",
       "    }\n",
       "\n",
       "    .dataframe thead th {\n",
       "        text-align: right;\n",
       "    }\n",
       "</style>\n",
       "<table border=\"1\" class=\"dataframe\">\n",
       "  <thead>\n",
       "    <tr style=\"text-align: right;\">\n",
       "      <th></th>\n",
       "      <th>Date</th>\n",
       "      <th>Open</th>\n",
       "      <th>High</th>\n",
       "      <th>Low</th>\n",
       "      <th>Close</th>\n",
       "      <th>year</th>\n",
       "      <th>month</th>\n",
       "      <th>day</th>\n",
       "      <th>day_of_week</th>\n",
       "    </tr>\n",
       "  </thead>\n",
       "  <tbody>\n",
       "    <tr>\n",
       "      <th>0</th>\n",
       "      <td>2005-07-01</td>\n",
       "      <td>13.00</td>\n",
       "      <td>14.00</td>\n",
       "      <td>11.25</td>\n",
       "      <td>12.46</td>\n",
       "      <td>2005</td>\n",
       "      <td>7</td>\n",
       "      <td>Friday</td>\n",
       "      <td>4</td>\n",
       "    </tr>\n",
       "    <tr>\n",
       "      <th>1</th>\n",
       "      <td>2005-08-01</td>\n",
       "      <td>12.58</td>\n",
       "      <td>14.88</td>\n",
       "      <td>12.55</td>\n",
       "      <td>13.42</td>\n",
       "      <td>2005</td>\n",
       "      <td>8</td>\n",
       "      <td>Monday</td>\n",
       "      <td>0</td>\n",
       "    </tr>\n",
       "    <tr>\n",
       "      <th>2</th>\n",
       "      <td>2005-09-01</td>\n",
       "      <td>13.48</td>\n",
       "      <td>14.87</td>\n",
       "      <td>12.27</td>\n",
       "      <td>13.30</td>\n",
       "      <td>2005</td>\n",
       "      <td>9</td>\n",
       "      <td>Thursday</td>\n",
       "      <td>3</td>\n",
       "    </tr>\n",
       "    <tr>\n",
       "      <th>3</th>\n",
       "      <td>2005-10-01</td>\n",
       "      <td>13.20</td>\n",
       "      <td>14.47</td>\n",
       "      <td>12.40</td>\n",
       "      <td>12.99</td>\n",
       "      <td>2005</td>\n",
       "      <td>10</td>\n",
       "      <td>Saturday</td>\n",
       "      <td>5</td>\n",
       "    </tr>\n",
       "    <tr>\n",
       "      <th>4</th>\n",
       "      <td>2005-11-01</td>\n",
       "      <td>13.35</td>\n",
       "      <td>13.88</td>\n",
       "      <td>12.88</td>\n",
       "      <td>13.41</td>\n",
       "      <td>2005</td>\n",
       "      <td>11</td>\n",
       "      <td>Tuesday</td>\n",
       "      <td>1</td>\n",
       "    </tr>\n",
       "  </tbody>\n",
       "</table>\n",
       "</div>"
      ],
      "text/plain": [
       "        Date   Open   High    Low  Close  year  month       day  day_of_week\n",
       "0 2005-07-01  13.00  14.00  11.25  12.46  2005      7    Friday            4\n",
       "1 2005-08-01  12.58  14.88  12.55  13.42  2005      8    Monday            0\n",
       "2 2005-09-01  13.48  14.87  12.27  13.30  2005      9  Thursday            3\n",
       "3 2005-10-01  13.20  14.47  12.40  12.99  2005     10  Saturday            5\n",
       "4 2005-11-01  13.35  13.88  12.88  13.41  2005     11   Tuesday            1"
      ]
     },
     "execution_count": 21,
     "metadata": {},
     "output_type": "execute_result"
    }
   ],
   "source": [
    "df.head()"
   ]
  },
  {
   "cell_type": "markdown",
   "id": "165c6674-e5e0-4c46-a466-669681f5c614",
   "metadata": {},
   "source": [
    "### Data Preprocessing"
   ]
  },
  {
   "cell_type": "code",
   "execution_count": 23,
   "id": "e275b0d7-f864-4961-a028-4e20e01ed5cd",
   "metadata": {},
   "outputs": [
    {
     "data": {
      "text/plain": [
       "0"
      ]
     },
     "execution_count": 23,
     "metadata": {},
     "output_type": "execute_result"
    }
   ],
   "source": [
    "#  Checking for duplicates\n",
    "df.duplicated().sum()"
   ]
  },
  {
   "cell_type": "code",
   "execution_count": 24,
   "id": "26da75e3-d2ee-4f4c-a178-b028770bc3ab",
   "metadata": {},
   "outputs": [
    {
     "data": {
      "text/plain": [
       "Date           0\n",
       "Open           0\n",
       "High           0\n",
       "Low            0\n",
       "Close          0\n",
       "year           0\n",
       "month          0\n",
       "day            0\n",
       "day_of_week    0\n",
       "dtype: int64"
      ]
     },
     "execution_count": 24,
     "metadata": {},
     "output_type": "execute_result"
    }
   ],
   "source": [
    "# checking for null values\n",
    "df.isnull().sum()"
   ]
  },
  {
   "cell_type": "code",
   "execution_count": 25,
   "id": "de86ef1d-0425-469e-9181-d24d2780f57e",
   "metadata": {},
   "outputs": [
    {
     "data": {
      "text/plain": [
       "Date           datetime64[ns]\n",
       "Open                  float64\n",
       "High                  float64\n",
       "Low                   float64\n",
       "Close                 float64\n",
       "year                    int32\n",
       "month                   int32\n",
       "day                    object\n",
       "day_of_week             int32\n",
       "dtype: object"
      ]
     },
     "execution_count": 25,
     "metadata": {},
     "output_type": "execute_result"
    }
   ],
   "source": [
    "# checking the data types of the variables in dataset using dtypes.\n",
    "df.dtypes"
   ]
  },
  {
   "cell_type": "code",
   "execution_count": 26,
   "id": "0dc711aa-dbc3-4abe-ab31-c141f011f23b",
   "metadata": {},
   "outputs": [
    {
     "data": {
      "text/html": [
       "<div>\n",
       "<style scoped>\n",
       "    .dataframe tbody tr th:only-of-type {\n",
       "        vertical-align: middle;\n",
       "    }\n",
       "\n",
       "    .dataframe tbody tr th {\n",
       "        vertical-align: top;\n",
       "    }\n",
       "\n",
       "    .dataframe thead th {\n",
       "        text-align: right;\n",
       "    }\n",
       "</style>\n",
       "<table border=\"1\" class=\"dataframe\">\n",
       "  <thead>\n",
       "    <tr style=\"text-align: right;\">\n",
       "      <th></th>\n",
       "      <th>count</th>\n",
       "      <th>mean</th>\n",
       "      <th>min</th>\n",
       "      <th>25%</th>\n",
       "      <th>50%</th>\n",
       "      <th>75%</th>\n",
       "      <th>max</th>\n",
       "      <th>std</th>\n",
       "    </tr>\n",
       "  </thead>\n",
       "  <tbody>\n",
       "    <tr>\n",
       "      <th>Date</th>\n",
       "      <td>185</td>\n",
       "      <td>2013-03-01 19:04:12.972973056</td>\n",
       "      <td>2005-07-01 00:00:00</td>\n",
       "      <td>2009-05-01 00:00:00</td>\n",
       "      <td>2013-03-01 00:00:00</td>\n",
       "      <td>2017-01-01 00:00:00</td>\n",
       "      <td>2020-11-01 00:00:00</td>\n",
       "      <td>NaN</td>\n",
       "    </tr>\n",
       "    <tr>\n",
       "      <th>Open</th>\n",
       "      <td>185.0</td>\n",
       "      <td>105.541405</td>\n",
       "      <td>10.0</td>\n",
       "      <td>33.8</td>\n",
       "      <td>62.98</td>\n",
       "      <td>153.0</td>\n",
       "      <td>369.95</td>\n",
       "      <td>98.87985</td>\n",
       "    </tr>\n",
       "    <tr>\n",
       "      <th>High</th>\n",
       "      <td>185.0</td>\n",
       "      <td>116.104324</td>\n",
       "      <td>11.24</td>\n",
       "      <td>36.14</td>\n",
       "      <td>72.55</td>\n",
       "      <td>169.19</td>\n",
       "      <td>404.0</td>\n",
       "      <td>106.333497</td>\n",
       "    </tr>\n",
       "    <tr>\n",
       "      <th>Low</th>\n",
       "      <td>185.0</td>\n",
       "      <td>94.947838</td>\n",
       "      <td>5.55</td>\n",
       "      <td>28.51</td>\n",
       "      <td>58.0</td>\n",
       "      <td>138.35</td>\n",
       "      <td>345.5</td>\n",
       "      <td>91.219415</td>\n",
       "    </tr>\n",
       "    <tr>\n",
       "      <th>Close</th>\n",
       "      <td>185.0</td>\n",
       "      <td>105.204703</td>\n",
       "      <td>9.98</td>\n",
       "      <td>33.45</td>\n",
       "      <td>62.54</td>\n",
       "      <td>153.3</td>\n",
       "      <td>367.9</td>\n",
       "      <td>98.583153</td>\n",
       "    </tr>\n",
       "    <tr>\n",
       "      <th>year</th>\n",
       "      <td>185.0</td>\n",
       "      <td>2012.702703</td>\n",
       "      <td>2005.0</td>\n",
       "      <td>2009.0</td>\n",
       "      <td>2013.0</td>\n",
       "      <td>2017.0</td>\n",
       "      <td>2020.0</td>\n",
       "      <td>4.471315</td>\n",
       "    </tr>\n",
       "    <tr>\n",
       "      <th>month</th>\n",
       "      <td>185.0</td>\n",
       "      <td>6.567568</td>\n",
       "      <td>1.0</td>\n",
       "      <td>4.0</td>\n",
       "      <td>7.0</td>\n",
       "      <td>10.0</td>\n",
       "      <td>12.0</td>\n",
       "      <td>3.446332</td>\n",
       "    </tr>\n",
       "    <tr>\n",
       "      <th>day_of_week</th>\n",
       "      <td>185.0</td>\n",
       "      <td>3.054054</td>\n",
       "      <td>0.0</td>\n",
       "      <td>1.0</td>\n",
       "      <td>3.0</td>\n",
       "      <td>5.0</td>\n",
       "      <td>6.0</td>\n",
       "      <td>2.001982</td>\n",
       "    </tr>\n",
       "  </tbody>\n",
       "</table>\n",
       "</div>"
      ],
      "text/plain": [
       "             count                           mean                  min  \\\n",
       "Date           185  2013-03-01 19:04:12.972973056  2005-07-01 00:00:00   \n",
       "Open         185.0                     105.541405                 10.0   \n",
       "High         185.0                     116.104324                11.24   \n",
       "Low          185.0                      94.947838                 5.55   \n",
       "Close        185.0                     105.204703                 9.98   \n",
       "year         185.0                    2012.702703               2005.0   \n",
       "month        185.0                       6.567568                  1.0   \n",
       "day_of_week  185.0                       3.054054                  0.0   \n",
       "\n",
       "                             25%                  50%                  75%  \\\n",
       "Date         2009-05-01 00:00:00  2013-03-01 00:00:00  2017-01-01 00:00:00   \n",
       "Open                        33.8                62.98                153.0   \n",
       "High                       36.14                72.55               169.19   \n",
       "Low                        28.51                 58.0               138.35   \n",
       "Close                      33.45                62.54                153.3   \n",
       "year                      2009.0               2013.0               2017.0   \n",
       "month                        4.0                  7.0                 10.0   \n",
       "day_of_week                  1.0                  3.0                  5.0   \n",
       "\n",
       "                             max         std  \n",
       "Date         2020-11-01 00:00:00         NaN  \n",
       "Open                      369.95    98.87985  \n",
       "High                       404.0  106.333497  \n",
       "Low                        345.5   91.219415  \n",
       "Close                      367.9   98.583153  \n",
       "year                      2020.0    4.471315  \n",
       "month                       12.0    3.446332  \n",
       "day_of_week                  6.0    2.001982  "
      ]
     },
     "execution_count": 26,
     "metadata": {},
     "output_type": "execute_result"
    }
   ],
   "source": [
    "df.describe().T"
   ]
  },
  {
   "cell_type": "code",
   "execution_count": 27,
   "id": "b484ac8a-c291-4256-adb8-602332b000c2",
   "metadata": {},
   "outputs": [],
   "source": [
    "# dropping the column\n",
    "df = df.drop(columns=['Date'])\n",
    "df = df.drop(columns=['day'])"
   ]
  },
  {
   "cell_type": "code",
   "execution_count": 28,
   "id": "ef99e758-6564-4fc8-88c1-8fc6c37fb4ea",
   "metadata": {},
   "outputs": [
    {
     "data": {
      "text/html": [
       "<div>\n",
       "<style scoped>\n",
       "    .dataframe tbody tr th:only-of-type {\n",
       "        vertical-align: middle;\n",
       "    }\n",
       "\n",
       "    .dataframe tbody tr th {\n",
       "        vertical-align: top;\n",
       "    }\n",
       "\n",
       "    .dataframe thead th {\n",
       "        text-align: right;\n",
       "    }\n",
       "</style>\n",
       "<table border=\"1\" class=\"dataframe\">\n",
       "  <thead>\n",
       "    <tr style=\"text-align: right;\">\n",
       "      <th></th>\n",
       "      <th>Open</th>\n",
       "      <th>High</th>\n",
       "      <th>Low</th>\n",
       "      <th>Close</th>\n",
       "      <th>year</th>\n",
       "      <th>month</th>\n",
       "      <th>day_of_week</th>\n",
       "    </tr>\n",
       "  </thead>\n",
       "  <tbody>\n",
       "    <tr>\n",
       "      <th>0</th>\n",
       "      <td>13.00</td>\n",
       "      <td>14.00</td>\n",
       "      <td>11.25</td>\n",
       "      <td>12.46</td>\n",
       "      <td>2005</td>\n",
       "      <td>7</td>\n",
       "      <td>4</td>\n",
       "    </tr>\n",
       "    <tr>\n",
       "      <th>1</th>\n",
       "      <td>12.58</td>\n",
       "      <td>14.88</td>\n",
       "      <td>12.55</td>\n",
       "      <td>13.42</td>\n",
       "      <td>2005</td>\n",
       "      <td>8</td>\n",
       "      <td>0</td>\n",
       "    </tr>\n",
       "    <tr>\n",
       "      <th>2</th>\n",
       "      <td>13.48</td>\n",
       "      <td>14.87</td>\n",
       "      <td>12.27</td>\n",
       "      <td>13.30</td>\n",
       "      <td>2005</td>\n",
       "      <td>9</td>\n",
       "      <td>3</td>\n",
       "    </tr>\n",
       "    <tr>\n",
       "      <th>3</th>\n",
       "      <td>13.20</td>\n",
       "      <td>14.47</td>\n",
       "      <td>12.40</td>\n",
       "      <td>12.99</td>\n",
       "      <td>2005</td>\n",
       "      <td>10</td>\n",
       "      <td>5</td>\n",
       "    </tr>\n",
       "    <tr>\n",
       "      <th>4</th>\n",
       "      <td>13.35</td>\n",
       "      <td>13.88</td>\n",
       "      <td>12.88</td>\n",
       "      <td>13.41</td>\n",
       "      <td>2005</td>\n",
       "      <td>11</td>\n",
       "      <td>1</td>\n",
       "    </tr>\n",
       "  </tbody>\n",
       "</table>\n",
       "</div>"
      ],
      "text/plain": [
       "    Open   High    Low  Close  year  month  day_of_week\n",
       "0  13.00  14.00  11.25  12.46  2005      7            4\n",
       "1  12.58  14.88  12.55  13.42  2005      8            0\n",
       "2  13.48  14.87  12.27  13.30  2005      9            3\n",
       "3  13.20  14.47  12.40  12.99  2005     10            5\n",
       "4  13.35  13.88  12.88  13.41  2005     11            1"
      ]
     },
     "execution_count": 28,
     "metadata": {},
     "output_type": "execute_result"
    }
   ],
   "source": [
    "df.head()"
   ]
  },
  {
   "cell_type": "markdown",
   "id": "0d56a7f8-5906-47e7-9280-cdb25eec489c",
   "metadata": {},
   "source": [
    "observation : 1. There are no duplicate values and null values in the dataset.\n",
    "              2. dtypes shows useful columns datatype is in numerical type."
   ]
  },
  {
   "cell_type": "markdown",
   "id": "b3c9af8f-f641-42d4-8a52-5380aee1035e",
   "metadata": {},
   "source": [
    "### Exploratory Data Analysis (EDA)"
   ]
  },
  {
   "cell_type": "markdown",
   "id": "4f055f9c-804d-48e5-9804-01c351bb79c8",
   "metadata": {},
   "source": [
    "### Univariate analysis"
   ]
  },
  {
   "cell_type": "markdown",
   "id": "61b47457-cc1c-4429-8544-2194e582d81b",
   "metadata": {},
   "source": [
    "#### Histogram for closing price"
   ]
  },
  {
   "cell_type": "code",
   "execution_count": 33,
   "id": "aaef85a0-8ee9-4908-b035-a992e3016713",
   "metadata": {},
   "outputs": [
    {
     "data": {
      "image/png": "[encoded data removed]",
      "text/plain": [
       "<Figure size 1000x400 with 1 Axes>"
      ]
     },
     "metadata": {},
     "output_type": "display_data"
    }
   ],
   "source": [
    "plt.figure(figsize=(10,4))\n",
    "sns.histplot(df['Close'],kde=True,bins=20)\n",
    "plt.title(\"Distribution of Closing Prices\")\n",
    "plt.xlabel(\"Closing Price\")\n",
    "plt.ylabel(\"Frequency\")\n",
    "plt.show()"
   ]
  },
  {
   "cell_type": "markdown",
   "id": "0cf2a6b3-5980-41a0-a0d0-99f988347a72",
   "metadata": {},
   "source": [
    "### Observation"
   ]
  },
  {
   "cell_type": "markdown",
   "id": "917884d3-0e5e-4736-b2fb-f53cc6f72120",
   "metadata": {},
   "source": [
    "The distribution is right-skewed, meaning that most of the closing prices are on the lower end, while fewer data points have very high closing prices."
   ]
  },
  {
   "cell_type": "markdown",
   "id": "027cb42f-f9ef-44f4-856e-0c73d068a00a",
   "metadata": {},
   "source": [
    "### Bar Plot for monthly distibution of average closing price"
   ]
  },
  {
   "cell_type": "code",
   "execution_count": 37,
   "id": "22a62829-2d99-4ebd-9848-00172ed8ceff",
   "metadata": {},
   "outputs": [
    {
     "data": {
      "image/png": "[encoded data removed]",
      "text/plain": [
       "<Figure size 1000x400 with 1 Axes>"
      ]
     },
     "metadata": {},
     "output_type": "display_data"
    }
   ],
   "source": [
    "monthly_avg=df.groupby('month')['Close'].mean()\n",
    "monthly_avg.plot(kind='bar',figsize=(10,4), color = 'green')\n",
    "plt.title(\"Average Closing Price Per Month\")\n",
    "plt.ylabel(\" Average of Closing Price\")\n",
    "plt.xlabel(\"Month\")\n",
    "plt.show()"
   ]
  },
  {
   "cell_type": "markdown",
   "id": "bcc2d1e8-2748-41ae-88ba-744c16fa0673",
   "metadata": {},
   "source": [
    "### Observation"
   ]
  },
  {
   "cell_type": "markdown",
   "id": "99fdb9d4-b5eb-4d47-96ea-074718713f2f",
   "metadata": {},
   "source": [
    "Month April have highest closing price while September shows lowest closing price.<br>Yes bank seems to perform well at start of the year (Primarily April)."
   ]
  },
  {
   "cell_type": "markdown",
   "id": "fba6ab7c-9690-448a-95a1-80bd1a9bd5be",
   "metadata": {},
   "source": [
    "#### Pie Chart "
   ]
  },
  {
   "cell_type": "code",
   "execution_count": 41,
   "id": "28118591-82a0-4d79-96a5-302bbecf1462",
   "metadata": {},
   "outputs": [
    {
     "data": {
      "image/png": "[encoded data removed]",
      "text/plain": [
       "<Figure size 1000x400 with 1 Axes>"
      ]
     },
     "metadata": {},
     "output_type": "display_data"
    }
   ],
   "source": [
    "plt.figure(figsize = (10,4))\n",
    "df['day_of_week'].value_counts().plot(kind='pie', autopct='%1.1f%%', startangle=90)\n",
    "plt.title('Distribution of Stocks by Day of the Week')\n",
    "plt.ylabel('')\n",
    "plt.show()"
   ]
  },
  {
   "cell_type": "markdown",
   "id": "02f452ad-b0c6-4556-9186-19842d642e53",
   "metadata": {},
   "source": [
    "### Observation"
   ]
  },
  {
   "cell_type": "markdown",
   "id": "fa6281bb-b3f7-41b3-aefb-e44676193641",
   "metadata": {},
   "source": [
    "Almost balance distribution of the stock prices across all days of week."
   ]
  },
  {
   "cell_type": "markdown",
   "id": "a0f59685-7f6a-47d8-be5b-1dcc80cc78b8",
   "metadata": {},
   "source": [
    "### Bivariate Analysis"
   ]
  },
  {
   "cell_type": "markdown",
   "id": "e5a839d3-803e-4561-85a7-ef94c92e431d",
   "metadata": {},
   "source": [
    "#### Scatter plot for Opening vs Closing price"
   ]
  },
  {
   "cell_type": "code",
   "execution_count": 46,
   "id": "58a2aec2-66f2-4dbb-819e-24791a1f586f",
   "metadata": {},
   "outputs": [
    {
     "data": {
      "image/png": "[encoded data removed]",
      "text/plain": [
       "<Figure size 1000x400 with 1 Axes>"
      ]
     },
     "metadata": {},
     "output_type": "display_data"
    }
   ],
   "source": [
    "plt.figure(figsize = (10,4))\n",
    "sns.scatterplot(x='Open', y='Close', data=df, color ='brown')\n",
    "plt.title('Opening vs Closing Price')\n",
    "plt.show()"
   ]
  },
  {
   "cell_type": "markdown",
   "id": "d078563f-216b-4170-b04d-fba23f5643e8",
   "metadata": {},
   "source": [
    "### Observation"
   ]
  },
  {
   "cell_type": "markdown",
   "id": "c3295fbd-16ed-4cdb-a87f-6befd8130e6c",
   "metadata": {},
   "source": [
    "Opening and closing price shows positive correlation"
   ]
  },
  {
   "cell_type": "markdown",
   "id": "18a0dc88-9ac1-4eef-b676-27c4612323ac",
   "metadata": {},
   "source": [
    "#### Scatter plot for Highest vs Lowest price"
   ]
  },
  {
   "cell_type": "code",
   "execution_count": 50,
   "id": "4f01fd91-d819-49bf-92f2-9dfec4257279",
   "metadata": {},
   "outputs": [
    {
     "data": {
      "image/png": "[encoded data removed]",
      "text/plain": [
       "<Figure size 1000x400 with 1 Axes>"
      ]
     },
     "metadata": {},
     "output_type": "display_data"
    }
   ],
   "source": [
    "plt.figure(figsize = (10,4))\n",
    "sns.scatterplot(x='High', y='Low', data=df, color ='blue')\n",
    "plt.title('Highest vs Lowest Price')\n",
    "plt.show()"
   ]
  },
  {
   "cell_type": "markdown",
   "id": "9f46cfac-7ecf-4166-9752-60dbeee0ff2d",
   "metadata": {},
   "source": [
    "### Observations"
   ]
  },
  {
   "cell_type": "markdown",
   "id": "75e3522e-b545-4eae-bce1-fdf714cfe306",
   "metadata": {},
   "source": [
    "The scatter plot shows a strong positive correlation between high and low prices."
   ]
  },
  {
   "cell_type": "markdown",
   "id": "07803992-e13a-4802-9cb6-9994aeda6ff9",
   "metadata": {},
   "source": [
    "### Multivariate Analysis"
   ]
  },
  {
   "cell_type": "markdown",
   "id": "f6614232-7ac3-45aa-884b-8e168788d6c9",
   "metadata": {},
   "source": [
    "#### Line Graph"
   ]
  },
  {
   "cell_type": "code",
   "execution_count": 55,
   "id": "2f23fc19-e403-47eb-8a04-a876f29ac3b4",
   "metadata": {},
   "outputs": [
    {
     "data": {
      "image/png": "[encoded data removed]",
      "text/plain": [
       "<Figure size 1000x400 with 1 Axes>"
      ]
     },
     "metadata": {},
     "output_type": "display_data"
    }
   ],
   "source": [
    "grouped = df.groupby('year')[['Open', 'Close', 'High', 'Low']].mean()\n",
    "grouped.plot(kind='line',figsize=(10,4), marker='o')\n",
    "plt.title('Stock Prices by Year')\n",
    "plt.xlabel('Years ')\n",
    "plt.ylabel('Price')\n",
    "plt.legend(title='Price Type')\n",
    "plt.tight_layout()\n",
    "plt.show()"
   ]
  },
  {
   "cell_type": "markdown",
   "id": "bc5bc411-4261-41fb-a957-7bb565421adc",
   "metadata": {},
   "source": [
    "### Observation"
   ]
  },
  {
   "cell_type": "markdown",
   "id": "46acf4a8-fb68-4e1f-ae90-72e1e500b03f",
   "metadata": {},
   "source": [
    "The Opening, Closing, Lowest and Highest stock prices of Yes Bank moved closely together.<br> It goes consistently upward trend until approx. 2017 then followed by a sharp decline.<br> Showing stock prices peaked in year range 2016 to 2018."
   ]
  },
  {
   "cell_type": "markdown",
   "id": "e99f1505-0245-43ac-af8b-9a412a1af69b",
   "metadata": {},
   "source": [
    "### Correletion analysis"
   ]
  },
  {
   "cell_type": "code",
   "execution_count": 59,
   "id": "8ac31106-0181-4b8e-9d73-a1c1b7cfe673",
   "metadata": {},
   "outputs": [
    {
     "data": {
      "text/html": [
       "<div>\n",
       "<style scoped>\n",
       "    .dataframe tbody tr th:only-of-type {\n",
       "        vertical-align: middle;\n",
       "    }\n",
       "\n",
       "    .dataframe tbody tr th {\n",
       "        vertical-align: top;\n",
       "    }\n",
       "\n",
       "    .dataframe thead th {\n",
       "        text-align: right;\n",
       "    }\n",
       "</style>\n",
       "<table border=\"1\" class=\"dataframe\">\n",
       "  <thead>\n",
       "    <tr style=\"text-align: right;\">\n",
       "      <th></th>\n",
       "      <th>Open</th>\n",
       "      <th>High</th>\n",
       "      <th>Low</th>\n",
       "      <th>Close</th>\n",
       "    </tr>\n",
       "  </thead>\n",
       "  <tbody>\n",
       "    <tr>\n",
       "      <th>0</th>\n",
       "      <td>13.00</td>\n",
       "      <td>14.00</td>\n",
       "      <td>11.25</td>\n",
       "      <td>12.46</td>\n",
       "    </tr>\n",
       "    <tr>\n",
       "      <th>1</th>\n",
       "      <td>12.58</td>\n",
       "      <td>14.88</td>\n",
       "      <td>12.55</td>\n",
       "      <td>13.42</td>\n",
       "    </tr>\n",
       "    <tr>\n",
       "      <th>2</th>\n",
       "      <td>13.48</td>\n",
       "      <td>14.87</td>\n",
       "      <td>12.27</td>\n",
       "      <td>13.30</td>\n",
       "    </tr>\n",
       "    <tr>\n",
       "      <th>3</th>\n",
       "      <td>13.20</td>\n",
       "      <td>14.47</td>\n",
       "      <td>12.40</td>\n",
       "      <td>12.99</td>\n",
       "    </tr>\n",
       "    <tr>\n",
       "      <th>4</th>\n",
       "      <td>13.35</td>\n",
       "      <td>13.88</td>\n",
       "      <td>12.88</td>\n",
       "      <td>13.41</td>\n",
       "    </tr>\n",
       "  </tbody>\n",
       "</table>\n",
       "</div>"
      ],
      "text/plain": [
       "    Open   High    Low  Close\n",
       "0  13.00  14.00  11.25  12.46\n",
       "1  12.58  14.88  12.55  13.42\n",
       "2  13.48  14.87  12.27  13.30\n",
       "3  13.20  14.47  12.40  12.99\n",
       "4  13.35  13.88  12.88  13.41"
      ]
     },
     "execution_count": 59,
     "metadata": {},
     "output_type": "execute_result"
    }
   ],
   "source": [
    "float_dtype =  df.select_dtypes(include = 'float')\n",
    "float_dtype.head()"
   ]
  },
  {
   "cell_type": "code",
   "execution_count": 60,
   "id": "675e5439-df7f-4a43-aafe-9b769641c039",
   "metadata": {},
   "outputs": [
    {
     "data": {
      "text/plain": [
       "<Axes: >"
      ]
     },
     "execution_count": 60,
     "metadata": {},
     "output_type": "execute_result"
    },
    {
     "data": {
      "image/png": "[encoded data removed]",
      "text/plain": [
       "<Figure size 640x480 with 2 Axes>"
      ]
     },
     "metadata": {},
     "output_type": "display_data"
    }
   ],
   "source": [
    "# heatmap\n",
    "\n",
    "sns.heatmap(float_dtype.corr(),annot = True, cmap = \"crest\")"
   ]
  },
  {
   "cell_type": "markdown",
   "id": "c988adc6-0d0b-4304-8496-a2cf32ec523d",
   "metadata": {},
   "source": [
    "### Observation"
   ]
  },
  {
   "cell_type": "markdown",
   "id": "0b727546-b6c6-40b0-a057-a41c78ee8df1",
   "metadata": {},
   "source": [
    "The heatmap shows a positive correlation between all the variables in the dataset.<br> variables 'Close' and 'Low' prices have a perfect correlation of 1.00."
   ]
  },
  {
   "cell_type": "markdown",
   "id": "385238ed-d5e1-4818-940e-5c13b41952a1",
   "metadata": {},
   "source": [
    "### Outlier Detections"
   ]
  },
  {
   "cell_type": "code",
   "execution_count": 64,
   "id": "d8926a1f-c32a-4085-bd67-849690fb60ce",
   "metadata": {},
   "outputs": [
    {
     "data": {
      "image/png": "[encoded data removed]",
      "text/plain": [
       "<Figure size 800x400 with 1 Axes>"
      ]
     },
     "metadata": {},
     "output_type": "display_data"
    },
    {
     "data": {
      "image/png": "[encoded data removed]",
      "text/plain": [
       "<Figure size 800x400 with 1 Axes>"
      ]
     },
     "metadata": {},
     "output_type": "display_data"
    },
    {
     "data": {
      "image/png": "[encoded data removed]",
      "text/plain": [
       "<Figure size 800x400 with 1 Axes>"
      ]
     },
     "metadata": {},
     "output_type": "display_data"
    },
    {
     "data": {
      "image/png": "[encoded data removed]",
      "text/plain": [
       "<Figure size 800x400 with 1 Axes>"
      ]
     },
     "metadata": {},
     "output_type": "display_data"
    }
   ],
   "source": [
    "# Boxplot\n",
    "for i in float_dtype.columns:\n",
    "    plt.figure(figsize = (8,4))\n",
    "    sns.boxplot(x=df[i])\n",
    "    plt.title(i)\n",
    "    plt.show()"
   ]
  },
  {
   "cell_type": "markdown",
   "id": "3324a912-25ae-48cc-95db-fcb078dc4a7c",
   "metadata": {},
   "source": [
    "### Model Preparation"
   ]
  },
  {
   "cell_type": "code",
   "execution_count": 66,
   "id": "13b1f58c-d69c-4ada-be03-d94b13b8208b",
   "metadata": {},
   "outputs": [],
   "source": [
    "x = df.drop(['Close'], axis = 1).values\n",
    "y = df['Close'].values"
   ]
  },
  {
   "cell_type": "markdown",
   "id": "38be10f6-f0ef-4cd8-bf92-2e00b2d87ee8",
   "metadata": {},
   "source": [
    "Train Test Split"
   ]
  },
  {
   "cell_type": "code",
   "execution_count": 68,
   "id": "a6feb068-97dd-433c-9863-29f93c2b802a",
   "metadata": {},
   "outputs": [],
   "source": [
    "from sklearn.model_selection import train_test_split\n",
    "x_train, x_test, y_train, y_test = train_test_split(x,y, test_size = 0.3)"
   ]
  },
  {
   "cell_type": "markdown",
   "id": "e0ea9648-1440-4126-9e0b-427c3e044d6b",
   "metadata": {},
   "source": [
    "### Scaling"
   ]
  },
  {
   "cell_type": "code",
   "execution_count": 70,
   "id": "dff1b40c-2dc6-4a7b-945e-21dce47f7201",
   "metadata": {},
   "outputs": [],
   "source": [
    "from sklearn.preprocessing import StandardScaler\n",
    "scaler = StandardScaler()"
   ]
  },
  {
   "cell_type": "code",
   "execution_count": 71,
   "id": "4b6a57b8-a248-47f0-a0ac-dbbb88ceab48",
   "metadata": {},
   "outputs": [],
   "source": [
    "x_train = scaler.fit_transform(x_train)\n",
    "x_test = scaler.transform(x_test)"
   ]
  },
  {
   "cell_type": "markdown",
   "id": "5561862c-0ffa-4c13-8a75-bb26c6fb4611",
   "metadata": {},
   "source": [
    "### Importing Linear Regression"
   ]
  },
  {
   "cell_type": "code",
   "execution_count": 73,
   "id": "fbf6513e-ebb7-437f-8a0f-766dccad4cde",
   "metadata": {},
   "outputs": [
    {
     "data": {
      "text/html": [
       "<style>#sk-container-id-1 {\n",
       "  /* Definition of color scheme common for light and dark mode */\n",
       "  --sklearn-color-text: black;\n",
       "  --sklearn-color-line: gray;\n",
       "  /* Definition of color scheme for unfitted estimators */\n",
       "  --sklearn-color-unfitted-level-0: #fff5e6;\n",
       "  --sklearn-color-unfitted-level-1: #f6e4d2;\n",
       "  --sklearn-color-unfitted-level-2: #ffe0b3;\n",
       "  --sklearn-color-unfitted-level-3: chocolate;\n",
       "  /* Definition of color scheme for fitted estimators */\n",
       "  --sklearn-color-fitted-level-0: #f0f8ff;\n",
       "  --sklearn-color-fitted-level-1: #d4ebff;\n",
       "  --sklearn-color-fitted-level-2: #b3dbfd;\n",
       "  --sklearn-color-fitted-level-3: cornflowerblue;\n",
       "\n",
       "  /* Specific color for light theme */\n",
       "  --sklearn-color-text-on-default-background: var(--sg-text-color, var(--theme-code-foreground, var(--jp-content-font-color1, black)));\n",
       "  --sklearn-color-background: var(--sg-background-color, var(--theme-background, var(--jp-layout-color0, white)));\n",
       "  --sklearn-color-border-box: var(--sg-text-color, var(--theme-code-foreground, var(--jp-content-font-color1, black)));\n",
       "  --sklearn-color-icon: #696969;\n",
       "\n",
       "  @media (prefers-color-scheme: dark) {\n",
       "    /* Redefinition of color scheme for dark theme */\n",
       "    --sklearn-color-text-on-default-background: var(--sg-text-color, var(--theme-code-foreground, var(--jp-content-font-color1, white)));\n",
       "    --sklearn-color-background: var(--sg-background-color, var(--theme-background, var(--jp-layout-color0, #111)));\n",
       "    --sklearn-color-border-box: var(--sg-text-color, var(--theme-code-foreground, var(--jp-content-font-color1, white)));\n",
       "    --sklearn-color-icon: #878787;\n",
       "  }\n",
       "}\n",
       "\n",
       "#sk-container-id-1 {\n",
       "  color: var(--sklearn-color-text);\n",
       "}\n",
       "\n",
       "#sk-container-id-1 pre {\n",
       "  padding: 0;\n",
       "}\n",
       "\n",
       "#sk-container-id-1 input.sk-hidden--visually {\n",
       "  border: 0;\n",
       "  clip: rect(1px 1px 1px 1px);\n",
       "  clip: rect(1px, 1px, 1px, 1px);\n",
       "  height: 1px;\n",
       "  margin: -1px;\n",
       "  overflow: hidden;\n",
       "  padding: 0;\n",
       "  position: absolute;\n",
       "  width: 1px;\n",
       "}\n",
       "\n",
       "#sk-container-id-1 div.sk-dashed-wrapped {\n",
       "  border: 1px dashed var(--sklearn-color-line);\n",
       "  margin: 0 0.4em 0.5em 0.4em;\n",
       "  box-sizing: border-box;\n",
       "  padding-bottom: 0.4em;\n",
       "  background-color: var(--sklearn-color-background);\n",
       "}\n",
       "\n",
       "#sk-container-id-1 div.sk-container {\n",
       "  /* jupyter's `normalize.less` sets `[hidden] { display: none; }`\n",
       "     but bootstrap.min.css set `[hidden] { display: none !important; }`\n",
       "     so we also need the `!important` here to be able to override the\n",
       "     default hidden behavior on the sphinx rendered scikit-learn.org.\n",
       "     See: https://github.com/scikit-learn/scikit-learn/issues/21755 */\n",
       "  display: inline-block !important;\n",
       "  position: relative;\n",
       "}\n",
       "\n",
       "#sk-container-id-1 div.sk-text-repr-fallback {\n",
       "  display: none;\n",
       "}\n",
       "\n",
       "div.sk-parallel-item,\n",
       "div.sk-serial,\n",
       "div.sk-item {\n",
       "  /* draw centered vertical line to link estimators */\n",
       "  background-image: linear-gradient(var(--sklearn-color-text-on-default-background), var(--sklearn-color-text-on-default-background));\n",
       "  background-size: 2px 100%;\n",
       "  background-repeat: no-repeat;\n",
       "  background-position: center center;\n",
       "}\n",
       "\n",
       "/* Parallel-specific style estimator block */\n",
       "\n",
       "#sk-container-id-1 div.sk-parallel-item::after {\n",
       "  content: \"\";\n",
       "  width: 100%;\n",
       "  border-bottom: 2px solid var(--sklearn-color-text-on-default-background);\n",
       "  flex-grow: 1;\n",
       "}\n",
       "\n",
       "#sk-container-id-1 div.sk-parallel {\n",
       "  display: flex;\n",
       "  align-items: stretch;\n",
       "  justify-content: center;\n",
       "  background-color: var(--sklearn-color-background);\n",
       "  position: relative;\n",
       "}\n",
       "\n",
       "#sk-container-id-1 div.sk-parallel-item {\n",
       "  display: flex;\n",
       "  flex-direction: column;\n",
       "}\n",
       "\n",
       "#sk-container-id-1 div.sk-parallel-item:first-child::after {\n",
       "  align-self: flex-end;\n",
       "  width: 50%;\n",
       "}\n",
       "\n",
       "#sk-container-id-1 div.sk-parallel-item:last-child::after {\n",
       "  align-self: flex-start;\n",
       "  width: 50%;\n",
       "}\n",
       "\n",
       "#sk-container-id-1 div.sk-parallel-item:only-child::after {\n",
       "  width: 0;\n",
       "}\n",
       "\n",
       "/* Serial-specific style estimator block */\n",
       "\n",
       "#sk-container-id-1 div.sk-serial {\n",
       "  display: flex;\n",
       "  flex-direction: column;\n",
       "  align-items: center;\n",
       "  background-color: var(--sklearn-color-background);\n",
       "  padding-right: 1em;\n",
       "  padding-left: 1em;\n",
       "}\n",
       "\n",
       "\n",
       "/* Toggleable style: style used for estimator/Pipeline/ColumnTransformer box that is\n",
       "clickable and can be expanded/collapsed.\n",
       "- Pipeline and ColumnTransformer use this feature and define the default style\n",
       "- Estimators will overwrite some part of the style using the `sk-estimator` class\n",
       "*/\n",
       "\n",
       "/* Pipeline and ColumnTransformer style (default) */\n",
       "\n",
       "#sk-container-id-1 div.sk-toggleable {\n",
       "  /* Default theme specific background. It is overwritten whether we have a\n",
       "  specific estimator or a Pipeline/ColumnTransformer */\n",
       "  background-color: var(--sklearn-color-background);\n",
       "}\n",
       "\n",
       "/* Toggleable label */\n",
       "#sk-container-id-1 label.sk-toggleable__label {\n",
       "  cursor: pointer;\n",
       "  display: block;\n",
       "  width: 100%;\n",
       "  margin-bottom: 0;\n",
       "  padding: 0.5em;\n",
       "  box-sizing: border-box;\n",
       "  text-align: center;\n",
       "}\n",
       "\n",
       "#sk-container-id-1 label.sk-toggleable__label-arrow:before {\n",
       "  /* Arrow on the left of the label */\n",
       "  content: \"▸\";\n",
       "  float: left;\n",
       "  margin-right: 0.25em;\n",
       "  color: var(--sklearn-color-icon);\n",
       "}\n",
       "\n",
       "#sk-container-id-1 label.sk-toggleable__label-arrow:hover:before {\n",
       "  color: var(--sklearn-color-text);\n",
       "}\n",
       "\n",
       "/* Toggleable content - dropdown */\n",
       "\n",
       "#sk-container-id-1 div.sk-toggleable__content {\n",
       "  max-height: 0;\n",
       "  max-width: 0;\n",
       "  overflow: hidden;\n",
       "  text-align: left;\n",
       "  /* unfitted */\n",
       "  background-color: var(--sklearn-color-unfitted-level-0);\n",
       "}\n",
       "\n",
       "#sk-container-id-1 div.sk-toggleable__content.fitted {\n",
       "  /* fitted */\n",
       "  background-color: var(--sklearn-color-fitted-level-0);\n",
       "}\n",
       "\n",
       "#sk-container-id-1 div.sk-toggleable__content pre {\n",
       "  margin: 0.2em;\n",
       "  border-radius: 0.25em;\n",
       "  color: var(--sklearn-color-text);\n",
       "  /* unfitted */\n",
       "  background-color: var(--sklearn-color-unfitted-level-0);\n",
       "}\n",
       "\n",
       "#sk-container-id-1 div.sk-toggleable__content.fitted pre {\n",
       "  /* unfitted */\n",
       "  background-color: var(--sklearn-color-fitted-level-0);\n",
       "}\n",
       "\n",
       "#sk-container-id-1 input.sk-toggleable__control:checked~div.sk-toggleable__content {\n",
       "  /* Expand drop-down */\n",
       "  max-height: 200px;\n",
       "  max-width: 100%;\n",
       "  overflow: auto;\n",
       "}\n",
       "\n",
       "#sk-container-id-1 input.sk-toggleable__control:checked~label.sk-toggleable__label-arrow:before {\n",
       "  content: \"▾\";\n",
       "}\n",
       "\n",
       "/* Pipeline/ColumnTransformer-specific style */\n",
       "\n",
       "#sk-container-id-1 div.sk-label input.sk-toggleable__control:checked~label.sk-toggleable__label {\n",
       "  color: var(--sklearn-color-text);\n",
       "  background-color: var(--sklearn-color-unfitted-level-2);\n",
       "}\n",
       "\n",
       "#sk-container-id-1 div.sk-label.fitted input.sk-toggleable__control:checked~label.sk-toggleable__label {\n",
       "  background-color: var(--sklearn-color-fitted-level-2);\n",
       "}\n",
       "\n",
       "/* Estimator-specific style */\n",
       "\n",
       "/* Colorize estimator box */\n",
       "#sk-container-id-1 div.sk-estimator input.sk-toggleable__control:checked~label.sk-toggleable__label {\n",
       "  /* unfitted */\n",
       "  background-color: var(--sklearn-color-unfitted-level-2);\n",
       "}\n",
       "\n",
       "#sk-container-id-1 div.sk-estimator.fitted input.sk-toggleable__control:checked~label.sk-toggleable__label {\n",
       "  /* fitted */\n",
       "  background-color: var(--sklearn-color-fitted-level-2);\n",
       "}\n",
       "\n",
       "#sk-container-id-1 div.sk-label label.sk-toggleable__label,\n",
       "#sk-container-id-1 div.sk-label label {\n",
       "  /* The background is the default theme color */\n",
       "  color: var(--sklearn-color-text-on-default-background);\n",
       "}\n",
       "\n",
       "/* On hover, darken the color of the background */\n",
       "#sk-container-id-1 div.sk-label:hover label.sk-toggleable__label {\n",
       "  color: var(--sklearn-color-text);\n",
       "  background-color: var(--sklearn-color-unfitted-level-2);\n",
       "}\n",
       "\n",
       "/* Label box, darken color on hover, fitted */\n",
       "#sk-container-id-1 div.sk-label.fitted:hover label.sk-toggleable__label.fitted {\n",
       "  color: var(--sklearn-color-text);\n",
       "  background-color: var(--sklearn-color-fitted-level-2);\n",
       "}\n",
       "\n",
       "/* Estimator label */\n",
       "\n",
       "#sk-container-id-1 div.sk-label label {\n",
       "  font-family: monospace;\n",
       "  font-weight: bold;\n",
       "  display: inline-block;\n",
       "  line-height: 1.2em;\n",
       "}\n",
       "\n",
       "#sk-container-id-1 div.sk-label-container {\n",
       "  text-align: center;\n",
       "}\n",
       "\n",
       "/* Estimator-specific */\n",
       "#sk-container-id-1 div.sk-estimator {\n",
       "  font-family: monospace;\n",
       "  border: 1px dotted var(--sklearn-color-border-box);\n",
       "  border-radius: 0.25em;\n",
       "  box-sizing: border-box;\n",
       "  margin-bottom: 0.5em;\n",
       "  /* unfitted */\n",
       "  background-color: var(--sklearn-color-unfitted-level-0);\n",
       "}\n",
       "\n",
       "#sk-container-id-1 div.sk-estimator.fitted {\n",
       "  /* fitted */\n",
       "  background-color: var(--sklearn-color-fitted-level-0);\n",
       "}\n",
       "\n",
       "/* on hover */\n",
       "#sk-container-id-1 div.sk-estimator:hover {\n",
       "  /* unfitted */\n",
       "  background-color: var(--sklearn-color-unfitted-level-2);\n",
       "}\n",
       "\n",
       "#sk-container-id-1 div.sk-estimator.fitted:hover {\n",
       "  /* fitted */\n",
       "  background-color: var(--sklearn-color-fitted-level-2);\n",
       "}\n",
       "\n",
       "/* Specification for estimator info (e.g. \"i\" and \"?\") */\n",
       "\n",
       "/* Common style for \"i\" and \"?\" */\n",
       "\n",
       ".sk-estimator-doc-link,\n",
       "a:link.sk-estimator-doc-link,\n",
       "a:visited.sk-estimator-doc-link {\n",
       "  float: right;\n",
       "  font-size: smaller;\n",
       "  line-height: 1em;\n",
       "  font-family: monospace;\n",
       "  background-color: var(--sklearn-color-background);\n",
       "  border-radius: 1em;\n",
       "  height: 1em;\n",
       "  width: 1em;\n",
       "  text-decoration: none !important;\n",
       "  margin-left: 1ex;\n",
       "  /* unfitted */\n",
       "  border: var(--sklearn-color-unfitted-level-1) 1pt solid;\n",
       "  color: var(--sklearn-color-unfitted-level-1);\n",
       "}\n",
       "\n",
       ".sk-estimator-doc-link.fitted,\n",
       "a:link.sk-estimator-doc-link.fitted,\n",
       "a:visited.sk-estimator-doc-link.fitted {\n",
       "  /* fitted */\n",
       "  border: var(--sklearn-color-fitted-level-1) 1pt solid;\n",
       "  color: var(--sklearn-color-fitted-level-1);\n",
       "}\n",
       "\n",
       "/* On hover */\n",
       "div.sk-estimator:hover .sk-estimator-doc-link:hover,\n",
       ".sk-estimator-doc-link:hover,\n",
       "div.sk-label-container:hover .sk-estimator-doc-link:hover,\n",
       ".sk-estimator-doc-link:hover {\n",
       "  /* unfitted */\n",
       "  background-color: var(--sklearn-color-unfitted-level-3);\n",
       "  color: var(--sklearn-color-background);\n",
       "  text-decoration: none;\n",
       "}\n",
       "\n",
       "div.sk-estimator.fitted:hover .sk-estimator-doc-link.fitted:hover,\n",
       ".sk-estimator-doc-link.fitted:hover,\n",
       "div.sk-label-container:hover .sk-estimator-doc-link.fitted:hover,\n",
       ".sk-estimator-doc-link.fitted:hover {\n",
       "  /* fitted */\n",
       "  background-color: var(--sklearn-color-fitted-level-3);\n",
       "  color: var(--sklearn-color-background);\n",
       "  text-decoration: none;\n",
       "}\n",
       "\n",
       "/* Span, style for the box shown on hovering the info icon */\n",
       ".sk-estimator-doc-link span {\n",
       "  display: none;\n",
       "  z-index: 9999;\n",
       "  position: relative;\n",
       "  font-weight: normal;\n",
       "  right: .2ex;\n",
       "  padding: .5ex;\n",
       "  margin: .5ex;\n",
       "  width: min-content;\n",
       "  min-width: 20ex;\n",
       "  max-width: 50ex;\n",
       "  color: var(--sklearn-color-text);\n",
       "  box-shadow: 2pt 2pt 4pt #999;\n",
       "  /* unfitted */\n",
       "  background: var(--sklearn-color-unfitted-level-0);\n",
       "  border: .5pt solid var(--sklearn-color-unfitted-level-3);\n",
       "}\n",
       "\n",
       ".sk-estimator-doc-link.fitted span {\n",
       "  /* fitted */\n",
       "  background: var(--sklearn-color-fitted-level-0);\n",
       "  border: var(--sklearn-color-fitted-level-3);\n",
       "}\n",
       "\n",
       ".sk-estimator-doc-link:hover span {\n",
       "  display: block;\n",
       "}\n",
       "\n",
       "/* \"?\"-specific style due to the `<a>` HTML tag */\n",
       "\n",
       "#sk-container-id-1 a.estimator_doc_link {\n",
       "  float: right;\n",
       "  font-size: 1rem;\n",
       "  line-height: 1em;\n",
       "  font-family: monospace;\n",
       "  background-color: var(--sklearn-color-background);\n",
       "  border-radius: 1rem;\n",
       "  height: 1rem;\n",
       "  width: 1rem;\n",
       "  text-decoration: none;\n",
       "  /* unfitted */\n",
       "  color: var(--sklearn-color-unfitted-level-1);\n",
       "  border: var(--sklearn-color-unfitted-level-1) 1pt solid;\n",
       "}\n",
       "\n",
       "#sk-container-id-1 a.estimator_doc_link.fitted {\n",
       "  /* fitted */\n",
       "  border: var(--sklearn-color-fitted-level-1) 1pt solid;\n",
       "  color: var(--sklearn-color-fitted-level-1);\n",
       "}\n",
       "\n",
       "/* On hover */\n",
       "#sk-container-id-1 a.estimator_doc_link:hover {\n",
       "  /* unfitted */\n",
       "  background-color: var(--sklearn-color-unfitted-level-3);\n",
       "  color: var(--sklearn-color-background);\n",
       "  text-decoration: none;\n",
       "}\n",
       "\n",
       "#sk-container-id-1 a.estimator_doc_link.fitted:hover {\n",
       "  /* fitted */\n",
       "  background-color: var(--sklearn-color-fitted-level-3);\n",
       "}\n",
       "</style><div id=\"sk-container-id-1\" class=\"sk-top-container\"><div class=\"sk-text-repr-fallback\"><pre>LinearRegression()</pre><b>In a Jupyter environment, please rerun this cell to show the HTML representation or trust the notebook. <br />On GitHub, the HTML representation is unable to render, please try loading this page with nbviewer.org.</b></div><div class=\"sk-container\" hidden><div class=\"sk-item\"><div class=\"sk-estimator fitted sk-toggleable\"><input class=\"sk-toggleable__control sk-hidden--visually\" id=\"sk-estimator-id-1\" type=\"checkbox\" checked><label for=\"sk-estimator-id-1\" class=\"sk-toggleable__label fitted sk-toggleable__label-arrow fitted\">&nbsp;&nbsp;LinearRegression<a class=\"sk-estimator-doc-link fitted\" rel=\"noreferrer\" target=\"_blank\" href=\"https://scikit-learn.org/1.4/modules/generated/sklearn.linear_model.LinearRegression.html\">?<span>Documentation for LinearRegression</span></a><span class=\"sk-estimator-doc-link fitted\">i<span>Fitted</span></span></label><div class=\"sk-toggleable__content fitted\"><pre>LinearRegression()</pre></div> </div></div></div></div>"
      ],
      "text/plain": [
       "LinearRegression()"
      ]
     },
     "execution_count": 73,
     "metadata": {},
     "output_type": "execute_result"
    }
   ],
   "source": [
    "from sklearn.linear_model import LinearRegression\n",
    "lr = LinearRegression()\n",
    "lr.fit(x_train, y_train)"
   ]
  },
  {
   "cell_type": "code",
   "execution_count": 74,
   "id": "722ae47a-afbb-4ddc-a175-d0ad9c5fd357",
   "metadata": {},
   "outputs": [
    {
     "data": {
      "text/plain": [
       "array([ 16.47375718,  31.98296097, 118.19474968, 145.39094894,\n",
       "        51.6135333 , 199.71669506,  39.85983967,  72.92117234,\n",
       "        54.57882246,  58.06880714,  91.71320495, 138.66067324,\n",
       "        37.76452323, 135.68613511, 229.88446184,  69.34725131,\n",
       "       167.69999792,  19.41864178,  14.33142526,  69.23186246,\n",
       "       338.13046709,  62.87664466,  32.59099507,  74.32695352,\n",
       "        68.33122932, 249.55087674,  50.09224119, 227.9441542 ,\n",
       "        29.10553243,  73.46800225, 217.35281008, 264.84066929,\n",
       "       374.10816102,  34.43621729, 230.83065755,  57.43935687,\n",
       "        49.69051904,  13.67851869, 143.21585679,  20.80227636,\n",
       "        13.26544476,  12.90070789,  67.70116225,  91.63269834,\n",
       "        23.08600703, 182.28087327,  97.13740225,  70.26242055,\n",
       "       106.36224636, 242.87621644, 167.7869209 , 312.50898563,\n",
       "        55.94468515,  62.33246282,  73.89882358,  15.44122471])"
      ]
     },
     "execution_count": 74,
     "metadata": {},
     "output_type": "execute_result"
    }
   ],
   "source": [
    "y_pred = lr.predict(x_test)\n",
    "y_pred"
   ]
  },
  {
   "cell_type": "code",
   "execution_count": 75,
   "id": "b9d75384-e9e6-4830-8f66-655f2b8f028f",
   "metadata": {},
   "outputs": [
    {
     "data": {
      "text/plain": [
       "array([ 13.3 , 343.4 , 181.75,  64.76,  53.41,  14.37, 286.38,  27.95,\n",
       "       169.65,  25.12,  62.13,  33.75,  22.45,  61.21,  50.97, 206.39,\n",
       "       147.95, 314.35,  62.38,  15.03,  70.45, 172.55,  82.7 ,  54.49,\n",
       "        92.84,  15.45,  68.3 ,  24.13, 362.05, 279.1 , 167.96,  14.67,\n",
       "        28.63,  26.97, 290.56, 153.3 , 326.14,  12.26, 114.33, 172.91,\n",
       "        65.99, 350.  ,  26.83, 351.15,  46.18, 137.67,  73.46,  50.57,\n",
       "        16.12, 151.82, 354.45, 304.9 , 272.56,  47.31,  92.2 , 104.41,\n",
       "        25.32,  74.02, 113.89,  25.45,  13.58,  52.59,  46.95,  40.99,\n",
       "        48.65,  61.59,  26.85,  20.08,  33.45, 165.74,   9.98, 183.45,\n",
       "        16.16,  35.98,  15.33, 361.96,  37.93,  66.02,  15.62,  57.5 ,\n",
       "       346.2 ,  36.99,  49.81,  18.46,  94.5 , 108.7 , 309.82,  22.85,\n",
       "        82.29,  12.99,  91.3 ,  62.9 ,  13.41, 315.05,  55.61,  47.72,\n",
       "       168.6 ,  31.13,  58.99,  51.29,  49.84,  73.74,  13.71,  39.2 ,\n",
       "       253.52, 322.25,  25.6 ,  28.14,  57.1 , 188.73,  59.5 , 292.37,\n",
       "        33.51, 136.83,  88.48, 142.08, 172.5 ,  71.86,  11.95, 194.3 ,\n",
       "        62.54, 108.21,  29.68,  43.48,  17.84,  62.22, 137.9 ,  50.54,\n",
       "       108.38])"
      ]
     },
     "execution_count": 75,
     "metadata": {},
     "output_type": "execute_result"
    }
   ],
   "source": [
    "y_train"
   ]
  },
  {
   "cell_type": "code",
   "execution_count": 76,
   "id": "00ad5e9d-42a1-488d-9f46-2d0d290b8413",
   "metadata": {
    "scrolled": true
   },
   "outputs": [
    {
     "data": {
      "text/plain": [
       "array([[-0.90540386, -0.93036724, -0.87279919, -1.67580476,  0.63151432,\n",
       "        -0.04739789],\n",
       "       [ 2.60221478,  2.64627205,  2.58691945,  1.17442301,  0.34667045,\n",
       "        -0.5569252 ],\n",
       "       [ 0.67409215,  0.71884096,  0.69842906,  1.17442301,  1.48604593,\n",
       "         0.97165674],\n",
       "       [-0.12884128, -0.14422904, -0.39016138,  0.07818156,  0.06182658,\n",
       "        -1.57597983],\n",
       "       [-0.53640872, -0.55535919, -0.48692261, -0.7988116 ,  1.48604593,\n",
       "        -1.06645252],\n",
       "       [-0.91996687, -0.909319  , -0.87726019,  1.61291959,  0.34667045,\n",
       "         0.97165674],\n",
       "       [ 2.16975247,  1.9688678 ,  1.91936252,  0.95517472, -0.50786117,\n",
       "        -1.57597983],\n",
       "       [-0.8186162 , -0.78716564, -0.7875091 ,  1.61291959, -0.79270504,\n",
       "        -0.5569252 ],\n",
       "       [ 0.85120982,  1.05984093,  0.55822617,  1.17442301,  1.20120206,\n",
       "        -0.04739789],\n",
       "       [-0.88119778, -0.80196375, -0.84635183, -0.7988116 , -0.50786117,\n",
       "         0.46212943],\n",
       "       [-0.41813347, -0.44202955, -0.35139316, -0.36031502,  0.06182658,\n",
       "         0.46212943],\n",
       "       [-0.55687565, -0.61758479, -0.74704145, -1.01805989, -1.07754891,\n",
       "         0.97165674],\n",
       "       [-0.69168187, -0.25866165, -0.94417521,  1.61291959, -1.07754891,\n",
       "         1.48118406],\n",
       "       [-0.32760667, -0.35379237, -0.38708116, -0.57956331,  1.20120206,\n",
       "        -1.57597983],\n",
       "       [-0.56769951, -0.58854005, -0.50073047, -0.57956331, -1.07754891,\n",
       "        -1.57597983],\n",
       "       [ 0.82956211,  0.85395415,  0.92232882,  0.73592643, -0.50786117,\n",
       "         1.48118406],\n",
       "       [ 0.56880554,  0.56948113,  0.41005721,  1.3936713 , -0.50786117,\n",
       "        -0.5569252 ],\n",
       "       [ 2.45117277,  2.38661574,  2.17268365,  0.95517472,  0.91635819,\n",
       "         1.48118406],\n",
       "       [-0.44371714, -0.48440179, -0.42106974, -0.36031502, -0.22301729,\n",
       "        -0.5569252 ],\n",
       "       [-0.91603092, -0.91483382, -0.88490762, -1.01805989,  1.48604593,\n",
       "        -1.57597983],\n",
       "       [-0.62477076, -0.36252417, -0.69457159,  1.3936713 ,  0.91635819,\n",
       "        -1.06645252],\n",
       "       [ 0.65933235,  0.5311531 ,  0.65488119,  0.51667814, -1.36239278,\n",
       "         1.48118406],\n",
       "       [-0.44253635, -0.30085005, -0.36222702,  0.29742985, -1.07754891,\n",
       "         0.97165674],\n",
       "       [-0.42600537, -0.48155246, -0.45038489, -0.36031502,  1.20120206,\n",
       "        -1.06645252],\n",
       "       [-0.16032887, -0.19386246, -0.06833203, -0.14106673,  1.48604593,\n",
       "         0.97165674],\n",
       "       [-0.93925302, -0.90610202, -0.89754713, -0.7988116 , -0.79270504,\n",
       "        -0.5569252 ],\n",
       "       [-0.33941451, -0.37447296, -0.36636937,  1.3936713 ,  1.20120206,\n",
       "         0.46212943],\n",
       "       [-0.77551757, -0.79314003, -0.7726391 , -1.01805989,  0.63151432,\n",
       "        -1.57597983],\n",
       "       [ 1.96311519,  2.32227612,  2.2183558 ,  1.17442301, -0.79270504,\n",
       "         1.48118406],\n",
       "       [ 1.24460785,  1.54615651,  1.40050563,  0.95517472, -1.64723665,\n",
       "         1.48118406],\n",
       "       [ 0.5638856 ,  0.52122642,  0.63820555,  0.51667814, -0.79270504,\n",
       "        -0.5569252 ],\n",
       "       [-0.91593252, -0.9300915 , -0.87343648,  1.61291959,  1.20120206,\n",
       "         1.48118406],\n",
       "       [-0.74088123, -0.76740419, -0.7184698 , -1.23730818, -1.36239278,\n",
       "        -0.04739789],\n",
       "       [-0.78811261, -0.79442683, -0.74396124, -1.45655647,  1.48604593,\n",
       "         0.46212943],\n",
       "       [ 1.72105438,  1.63696729,  1.92424838,  0.95517472, -1.36239278,\n",
       "        -0.5569252 ],\n",
       "       [ 0.45495824,  0.38482643,  0.52668052,  0.51667814,  1.20120206,\n",
       "         1.48118406],\n",
       "       [ 2.00837859,  1.97144138,  2.18542936,  0.95517472, -0.79270504,\n",
       "         0.97165674],\n",
       "       [-0.89251363, -0.90343652, -0.88363305, -1.01805989,  1.20120206,\n",
       "         0.97165674],\n",
       "       [ 0.01875678,  0.02388118,  0.09417586,  0.29742985,  0.34667045,\n",
       "         0.46212943],\n",
       "       [ 0.32772871,  0.54255041,  0.4663508 ,  0.73592643, -1.07754891,\n",
       "        -1.06645252],\n",
       "       [-0.56651872, -0.45581661, -0.51336998, -0.14106673, -1.64723665,\n",
       "         1.48118406],\n",
       "       [ 2.41574923,  2.45555104,  2.66658018,  0.95517472,  0.63151432,\n",
       "         0.46212943],\n",
       "       [-0.79204855, -0.80067696, -0.74162452, -1.01805989,  0.34667045,\n",
       "         0.46212943],\n",
       "       [ 2.53382768,  2.3201621 ,  2.58022794,  0.95517472,  0.34667045,\n",
       "        -1.06645252],\n",
       "       [-0.60115507, -0.59846674, -0.57805449, -1.23730818,  1.20120206,\n",
       "        -0.04739789],\n",
       "       [ 0.44187121,  0.38381538,  0.40676457,  0.73592643, -1.36239278,\n",
       "        -1.57597983],\n",
       "       [-0.35909425, -0.35121878, -0.29998543, -0.14106673, -1.07754891,\n",
       "        -0.04739789],\n",
       "       [-0.57970415, -0.56170124, -0.54810206, -0.7988116 ,  1.20120206,\n",
       "         1.48118406],\n",
       "       [-0.88552732, -0.91106536, -0.83955411, -1.45655647, -1.36239278,\n",
       "        -0.5569252 ],\n",
       "       [ 0.40802205,  0.36625986,  0.50225123,  0.51667814,  0.91635819,\n",
       "        -0.04739789],\n",
       "       [ 2.05167402,  2.29699984,  2.26137259,  1.17442301, -1.64723665,\n",
       "        -1.57597983],\n",
       "       [ 2.11760116,  1.92750661,  2.02504576,  1.17442301, -1.07754891,\n",
       "        -0.04739789],\n",
       "       [ 1.36288309,  1.46058482,  1.55324181,  0.73592643,  0.34667045,\n",
       "        -1.57597983],\n",
       "       [-0.63264265, -0.58596647, -0.6122555 , -0.7988116 ,  0.91635819,\n",
       "        -0.04739789],\n",
       "       [-0.06389814, -0.12088295, -0.07746646,  0.07818156, -0.22301729,\n",
       "         0.97165674],\n",
       "       [-0.12096938, -0.08356598, -0.0132068 ,  0.07818156, -1.64723665,\n",
       "        -1.06645252],\n",
       "       [-0.81369627, -0.80536456, -0.77582553, -1.45655647,  1.20120206,\n",
       "        -0.5569252 ],\n",
       "       [-0.30595895, -0.30415895, -0.24231106,  0.07818156,  1.48604593,\n",
       "         1.48118406],\n",
       "       [-0.16426482,  0.01386259, -0.0792721 ,  0.29742985, -0.50786117,\n",
       "        -0.04739789],\n",
       "       [-0.81320428, -0.78670607, -0.78644696, -1.01805989,  0.06182658,\n",
       "        -1.06645252],\n",
       "       [-0.7959845 , -0.83725863, -0.8861822 , -1.01805989,  0.91635819,\n",
       "        -0.5569252 ],\n",
       "       [-0.41833027, -0.48302308, -0.47853168, -0.36031502, -1.64723665,\n",
       "         0.97165674],\n",
       "       [-0.34925438, -0.41905112, -0.57083192,  1.3936713 ,  1.48604593,\n",
       "         1.48118406],\n",
       "       [-0.70545769, -0.68743923, -0.66323836, -0.7988116 ,  0.63151432,\n",
       "        -1.06645252],\n",
       "       [-0.38861386, -0.44377592, -0.54406591,  0.07818156,  0.34667045,\n",
       "        -0.04739789],\n",
       "       [-0.30261339, -0.36528158, -0.35734116,  0.29742985, -1.64723665,\n",
       "        -0.5569252 ],\n",
       "       [-0.76449692, -0.77659556, -0.73546409,  1.61291959, -0.50786117,\n",
       "         0.46212943],\n",
       "       [-0.87863941, -0.87448369, -0.83296883, -1.45655647, -1.07754891,\n",
       "        -0.5569252 ],\n",
       "       [-0.72336626, -0.74369044, -0.69510266, -0.7988116 ,  0.34667045,\n",
       "         0.97165674],\n",
       "       [ 0.6248928 ,  0.54677844,  0.65859869,  0.51667814,  0.06182658,\n",
       "        -0.5569252 ],\n",
       "       [-0.93964661, -0.96373193, -0.91645327, -0.7988116 , -1.07754891,\n",
       "         1.48118406],\n",
       "       [ 2.37835773,  2.14993786,  0.76162657,  1.17442301,  0.63151432,\n",
       "         0.97165674],\n",
       "       [-0.88060739, -0.90895134, -0.85633598, -1.45655647,  0.06182658,\n",
       "         0.97165674],\n",
       "       [-0.70457211, -0.73266079, -0.68023265, -1.23730818, -0.22301729,\n",
       "         0.46212943],\n",
       "       [-0.90343589, -0.909319  , -0.85888512, -1.45655647, -1.64723665,\n",
       "         1.48118406],\n",
       "       [ 1.84543034,  2.35214808,  2.08537549,  0.95517472,  0.06182658,\n",
       "         0.97165674],\n",
       "       [-0.68400678, -0.68982899, -0.63116164, -1.23730818,  0.06182658,\n",
       "         1.48118406],\n",
       "       [-0.34531843, -0.4182239 , -0.37805295, -0.14106673, -0.50786117,\n",
       "        -1.06645252],\n",
       "       [-0.85895967, -0.8979217 , -0.86079698, -1.45655647, -0.22301729,\n",
       "        -0.04739789],\n",
       "       [-0.55392369, -0.34147592, -0.52728405,  0.07818156,  0.63151432,\n",
       "         1.48118406],\n",
       "       [ 2.5323517 ,  2.28229364,  2.45627585,  1.17442301, -0.50786117,\n",
       "        -1.06645252],\n",
       "       [-0.66905017, -0.70857939, -0.68235694, -1.23730818,  0.34667045,\n",
       "        -0.5569252 ],\n",
       "       [-0.58147532, -0.57070879, -0.52515976, -1.23730818,  1.48604593,\n",
       "         0.97165674],\n",
       "       [-0.86092765, -0.89350984, -0.82468411, -1.45655647,  0.63151432,\n",
       "         0.46212943],\n",
       "       [-0.01066444, -0.07621288, -0.01108252,  0.07818156, -1.36239278,\n",
       "         0.46212943],\n",
       "       [ 0.41776353,  0.34659032,  0.04574214,  1.3936713 , -0.22301729,\n",
       "         0.97165674],\n",
       "       [ 1.82142105,  1.79671336,  2.00911361,  0.95517472, -1.07754891,\n",
       "        -0.5569252 ],\n",
       "       [-0.73084456, -0.77089691, -0.76286738, -1.01805989, -0.22301729,\n",
       "         1.48118406],\n",
       "       [-0.28627921, -0.2931293 , -0.20014398, -0.14106673,  0.91635819,\n",
       "        -1.57597983],\n",
       "       [-0.90815903, -0.93404379, -0.87141841, -1.67580476,  0.91635819,\n",
       "         0.97165674],\n",
       "       [ 0.04040449, -0.05047703, -0.13482218,  1.3936713 ,  0.06182658,\n",
       "        -1.57597983],\n",
       "       [-0.50866028, -0.47144195, -0.49223333, -0.36031502,  0.91635819,\n",
       "         0.97165674],\n",
       "       [-0.90668305, -0.9394667 , -0.86632012, -1.67580476,  1.20120206,\n",
       "        -1.06645252],\n",
       "       [ 1.98476291,  1.86500527,  2.19020901,  0.95517472,  1.48604593,\n",
       "         0.46212943],\n",
       "       [-0.41911746, -0.4791627 , -0.46663568, -0.36031502,  0.34667045,\n",
       "        -1.57597983],\n",
       "       [-0.4771727 , -0.51739882, -0.49966833, -0.36031502,  1.48604593,\n",
       "        -0.04739789],\n",
       "       [ 0.70361176,  0.58188949,  0.6846212 ,  0.51667814, -0.22301729,\n",
       "        -1.57597983],\n",
       "       [-0.70053776, -0.72806511, -0.68416258, -1.01805989, -0.50786117,\n",
       "        -0.04739789],\n",
       "       [-0.51112025, -0.50692065, -0.43997589, -0.57956331,  0.06182658,\n",
       "        -0.04739789],\n",
       "       [-0.51653218, -0.53679262, -0.50699712, -0.36031502, -1.36239278,\n",
       "        -1.06645252],\n",
       "       [-0.51062826, -0.53780367, -0.51007733, -0.57956331, -1.64723665,\n",
       "         0.46212943],\n",
       "       [-0.3098949 , -0.35682552, -0.31644865,  0.07818156,  1.20120206,\n",
       "         0.46212943],\n",
       "       [-0.90530546, -0.93431954, -0.86504555, -1.67580476,  1.48604593,\n",
       "        -0.04739789],\n",
       "       [-0.57655539, -0.62126134, -0.61491085,  1.61291959, -1.64723665,\n",
       "        -0.5569252 ],\n",
       "       [ 1.45547627,  1.37326677,  1.60762353,  0.73592643,  0.91635819,\n",
       "         0.97165674],\n",
       "       [ 2.45510872,  2.30159553,  2.23269473,  1.17442301, -1.36239278,\n",
       "        -0.04739789],\n",
       "       [-0.76498891, -0.77337858, -0.73174659,  1.61291959, -0.22301729,\n",
       "        -1.57597983],\n",
       "       [-0.74973711, -0.77677939, -0.7555386 , -1.23730818, -1.07754891,\n",
       "        -0.04739789],\n",
       "       [-0.53945908, -0.52034006, -0.48479833, -0.57956331, -0.79270504,\n",
       "        -0.04739789],\n",
       "       [ 0.65460921,  0.68336226,  0.752917  ,  0.73592643, -0.79270504,\n",
       "         0.46212943],\n",
       "       [-0.16032887, -0.21776003, -0.4385951 ,  1.3936713 ,  0.34667045,\n",
       "        -0.04739789],\n",
       "       [ 1.78265196,  1.74864248,  1.97310696,  0.95517472, -0.22301729,\n",
       "        -0.04739789],\n",
       "       [-0.73635489, -0.73486672, -0.6939343 , -1.23730818, -0.50786117,\n",
       "        -1.06645252],\n",
       "       [ 0.06500417,  0.19952834,  0.15673609,  0.29742985,  0.91635819,\n",
       "        -0.5569252 ],\n",
       "       [-0.2258624 , -0.24349588, -0.12983011, -0.14106673,  1.20120206,\n",
       "        -0.04739789],\n",
       "       [ 0.31100093,  0.25568763,  0.40357814,  0.29742985,  1.20120206,\n",
       "         0.97165674],\n",
       "       [ 0.48123069,  0.57821294,  0.59508254,  0.51667814, -1.64723665,\n",
       "        -0.04739789],\n",
       "       [-0.3403985 , -0.36849856, -0.27863636, -0.57956331,  0.91635819,\n",
       "         0.46212943],\n",
       "       [-0.78614463, -0.80692709, -0.88522627,  1.61291959,  0.06182658,\n",
       "        -0.5569252 ],\n",
       "       [ 0.76117501,  1.10487866,  0.92094803,  1.3936713 , -1.64723665,\n",
       "        -1.06645252],\n",
       "       [-0.42994132, -0.43872066, -0.41427203, -0.57956331,  1.48604593,\n",
       "        -0.5569252 ],\n",
       "       [ 0.02889184, -0.01499833,  0.06369236,  0.29742985,  0.06182658,\n",
       "        -1.06645252],\n",
       "       [-0.78614463, -0.78137508, -0.75883124, -0.7988116 , -0.22301729,\n",
       "        -1.57597983],\n",
       "       [-0.62673873, -0.63229099, -0.64624408, -1.23730818,  0.91635819,\n",
       "        -1.57597983],\n",
       "       [-0.88159138, -0.89608342, -0.83636769, -1.45655647,  0.34667045,\n",
       "        -1.06645252],\n",
       "       [-0.45355701, -0.43394115, -0.37635352, -0.57956331,  0.34667045,\n",
       "         1.48118406],\n",
       "       [ 0.5943892 ,  0.48804556,  0.25020468,  0.51667814,  0.34667045,\n",
       "         0.97165674],\n",
       "       [-0.54615019, -0.55637024, -0.68193208, -1.01805989, -1.64723665,\n",
       "        -1.06645252],\n",
       "       [ 0.09157182,  0.01358685,  0.07622564,  0.29742985, -0.22301729,\n",
       "         1.48118406]])"
      ]
     },
     "execution_count": 76,
     "metadata": {},
     "output_type": "execute_result"
    }
   ],
   "source": [
    "x_train"
   ]
  },
  {
   "cell_type": "markdown",
   "id": "943d1c47-85c2-48e5-8c9e-7637f5c79dd6",
   "metadata": {},
   "source": [
    "### Checking accuracy"
   ]
  },
  {
   "cell_type": "code",
   "execution_count": 78,
   "id": "6497c917-bc8f-4202-b690-97bfc5f86376",
   "metadata": {},
   "outputs": [
    {
     "name": "stdout",
     "output_type": "stream",
     "text": [
      "Trainig Score:  99.62935679052694 %\n",
      "Testing Score:  99.15156738045027 %\n"
     ]
    }
   ],
   "source": [
    "print(\"Trainig Score: \",(lr.score(x_train, y_train))*100,\"%\")\n",
    "print(\"Testing Score: \",(lr.score(x_test, y_test))*100,\"%\")"
   ]
  },
  {
   "cell_type": "markdown",
   "id": "1bca8779-e29a-4ba5-9e3a-d91055ca9775",
   "metadata": {},
   "source": [
    "###  Scatter Plot"
   ]
  },
  {
   "cell_type": "code",
   "execution_count": 80,
   "id": "181c5f87-a61e-486e-ac3c-70094e1d4fcf",
   "metadata": {},
   "outputs": [
    {
     "data": {
      "image/png": "[encoded data removed]",
      "text/plain": [
       "<Figure size 1200x400 with 1 Axes>"
      ]
     },
     "metadata": {},
     "output_type": "display_data"
    }
   ],
   "source": [
    "plt.figure(figsize=(12,4))\n",
    "sns.scatterplot(y_pred, color='b')\n",
    "sns.scatterplot(y_test,color='r')\n",
    "plt.title('Actual vs Pedicted')\n",
    "plt.xlabel('Actual')\n",
    "plt.ylabel('predicted')\n",
    "plt.show()"
   ]
  },
  {
   "cell_type": "code",
   "execution_count": null,
   "id": "0863b40b-ca54-468a-a002-453af21238c1",
   "metadata": {},
   "outputs": [],
   "source": []
  },
  {
   "cell_type": "code",
   "execution_count": 81,
   "id": "bc747588-8135-446d-8cba-9ff8f0a42d40",
   "metadata": {},
   "outputs": [
    {
     "data": {
      "text/html": [
       "<div>\n",
       "<style scoped>\n",
       "    .dataframe tbody tr th:only-of-type {\n",
       "        vertical-align: middle;\n",
       "    }\n",
       "\n",
       "    .dataframe tbody tr th {\n",
       "        vertical-align: top;\n",
       "    }\n",
       "\n",
       "    .dataframe thead th {\n",
       "        text-align: right;\n",
       "    }\n",
       "</style>\n",
       "<table border=\"1\" class=\"dataframe\">\n",
       "  <thead>\n",
       "    <tr style=\"text-align: right;\">\n",
       "      <th></th>\n",
       "      <th>Actual Value</th>\n",
       "      <th>Predicted Value</th>\n",
       "      <th>Difference</th>\n",
       "    </tr>\n",
       "  </thead>\n",
       "  <tbody>\n",
       "    <tr>\n",
       "      <th>24</th>\n",
       "      <td>67.83</td>\n",
       "      <td>68</td>\n",
       "      <td>-0.501229</td>\n",
       "    </tr>\n",
       "    <tr>\n",
       "      <th>48</th>\n",
       "      <td>97.49</td>\n",
       "      <td>106</td>\n",
       "      <td>-8.872246</td>\n",
       "    </tr>\n",
       "    <tr>\n",
       "      <th>52</th>\n",
       "      <td>54.50</td>\n",
       "      <td>55</td>\n",
       "      <td>-1.444685</td>\n",
       "    </tr>\n",
       "    <tr>\n",
       "      <th>10</th>\n",
       "      <td>85.71</td>\n",
       "      <td>91</td>\n",
       "      <td>-6.003205</td>\n",
       "    </tr>\n",
       "    <tr>\n",
       "      <th>44</th>\n",
       "      <td>22.78</td>\n",
       "      <td>23</td>\n",
       "      <td>-0.306007</td>\n",
       "    </tr>\n",
       "    <tr>\n",
       "      <th>6</th>\n",
       "      <td>41.36</td>\n",
       "      <td>39</td>\n",
       "      <td>1.500160</td>\n",
       "    </tr>\n",
       "    <tr>\n",
       "      <th>22</th>\n",
       "      <td>34.06</td>\n",
       "      <td>32</td>\n",
       "      <td>1.469005</td>\n",
       "    </tr>\n",
       "    <tr>\n",
       "      <th>26</th>\n",
       "      <td>49.42</td>\n",
       "      <td>50</td>\n",
       "      <td>-0.672241</td>\n",
       "    </tr>\n",
       "    <tr>\n",
       "      <th>51</th>\n",
       "      <td>306.80</td>\n",
       "      <td>312</td>\n",
       "      <td>-5.708986</td>\n",
       "    </tr>\n",
       "    <tr>\n",
       "      <th>55</th>\n",
       "      <td>13.42</td>\n",
       "      <td>15</td>\n",
       "      <td>-2.021225</td>\n",
       "    </tr>\n",
       "  </tbody>\n",
       "</table>\n",
       "</div>"
      ],
      "text/plain": [
       "    Actual Value  Predicted Value  Difference\n",
       "24         67.83               68   -0.501229\n",
       "48         97.49              106   -8.872246\n",
       "52         54.50               55   -1.444685\n",
       "10         85.71               91   -6.003205\n",
       "44         22.78               23   -0.306007\n",
       "6          41.36               39    1.500160\n",
       "22         34.06               32    1.469005\n",
       "26         49.42               50   -0.672241\n",
       "51        306.80              312   -5.708986\n",
       "55         13.42               15   -2.021225"
      ]
     },
     "execution_count": 81,
     "metadata": {},
     "output_type": "execute_result"
    }
   ],
   "source": [
    "predicted_value = pd.DataFrame({'Actual Value': y_test, 'Predicted Value': y_pred.astype(int), 'Difference': y_test - y_pred})\n",
    "predicted_value.sample(10)"
   ]
  },
  {
   "cell_type": "markdown",
   "id": "987acd4e-53bb-45f0-aa7b-e30a2f08cdd0",
   "metadata": {},
   "source": [
    "### Evaluation Matrics"
   ]
  },
  {
   "cell_type": "code",
   "execution_count": 83,
   "id": "b247e61d-b13b-4653-bcdd-d59b0ba9aa08",
   "metadata": {},
   "outputs": [
    {
     "name": "stdout",
     "output_type": "stream",
     "text": [
      "MAE : 4.908809252867178\n",
      "MSE : 70.14357677940382\n",
      "RMSE : 8.375176223782029\n",
      "R2 Linear regression : 99.15156738045027\n"
     ]
    }
   ],
   "source": [
    "from sklearn.metrics import mean_squared_error\n",
    "from sklearn.metrics import mean_absolute_error\n",
    "from sklearn.metrics import r2_score\n",
    "\n",
    "MAE = mean_absolute_error(y_test,y_pred)\n",
    "print(\"MAE :\",MAE)\n",
    "\n",
    "MSE = mean_squared_error(y_test, y_pred)\n",
    "print(\"MSE :\",MSE)\n",
    "\n",
    "RMSE = np.sqrt(MSE)\n",
    "print(\"RMSE :\", RMSE)\n",
    "\n",
    "r2 = r2_score(y_test, y_pred)\n",
    "print(\"R2 Linear regression :\" ,r2*100)"
   ]
  },
  {
   "cell_type": "markdown",
   "id": "8f67106c-e697-4daf-a45f-f9d11b09799d",
   "metadata": {},
   "source": [
    "### Random Forest Regressor"
   ]
  },
  {
   "cell_type": "code",
   "execution_count": 85,
   "id": "5e167bee-e780-4008-be0b-5f36a2b4862b",
   "metadata": {},
   "outputs": [
    {
     "name": "stdout",
     "output_type": "stream",
     "text": [
      "MSE : 122.47801138356509\n",
      "RMSE : 11.06697842157312\n",
      "R2 for Random Forest : 98.51854802953373\n"
     ]
    }
   ],
   "source": [
    "from sklearn.ensemble import RandomForestRegressor\n",
    "\n",
    "random_forest = RandomForestRegressor(n_estimators = 20, max_depth=8)\n",
    "random_forest.fit(x_train,y_train)\n",
    "rf_pred = random_forest.predict(x_test)\n",
    "\n",
    "MSE = mean_squared_error(y_test, rf_pred)\n",
    "print(\"MSE :\", MSE)\n",
    "\n",
    "RMSE = np.sqrt(MSE)\n",
    "print(\"RMSE :\", RMSE)\n",
    "\n",
    "r2 = r2_score(y_test, rf_pred)\n",
    "print(\"R2 for Random Forest :\", r2*100)"
   ]
  },
  {
   "cell_type": "code",
   "execution_count": 86,
   "id": "25653ea5-49d5-4ebd-ae03-5e14fb7f6336",
   "metadata": {},
   "outputs": [
    {
     "name": "stdout",
     "output_type": "stream",
     "text": [
      "Trainig Score:  99.74622812085424 %\n",
      "Testing Score:  98.51854802953373 %\n"
     ]
    }
   ],
   "source": [
    "print(\"Trainig Score: \",(random_forest.score(x_train, y_train))*100,\"%\")\n",
    "print(\"Testing Score: \",(random_forest.score(x_test, y_test))*100,\"%\")"
   ]
  },
  {
   "cell_type": "code",
   "execution_count": 87,
   "id": "203d255d-d4a8-45dd-b021-1084705f63fd",
   "metadata": {},
   "outputs": [
    {
     "data": {
      "text/html": [
       "<div>\n",
       "<style scoped>\n",
       "    .dataframe tbody tr th:only-of-type {\n",
       "        vertical-align: middle;\n",
       "    }\n",
       "\n",
       "    .dataframe tbody tr th {\n",
       "        vertical-align: top;\n",
       "    }\n",
       "\n",
       "    .dataframe thead th {\n",
       "        text-align: right;\n",
       "    }\n",
       "</style>\n",
       "<table border=\"1\" class=\"dataframe\">\n",
       "  <thead>\n",
       "    <tr style=\"text-align: right;\">\n",
       "      <th></th>\n",
       "      <th>Actual Value</th>\n",
       "      <th>Predicted Value</th>\n",
       "      <th>Difference</th>\n",
       "    </tr>\n",
       "  </thead>\n",
       "  <tbody>\n",
       "    <tr>\n",
       "      <th>22</th>\n",
       "      <td>34.06</td>\n",
       "      <td>32.989367</td>\n",
       "      <td>1.070633</td>\n",
       "    </tr>\n",
       "    <tr>\n",
       "      <th>7</th>\n",
       "      <td>69.14</td>\n",
       "      <td>67.608292</td>\n",
       "      <td>1.531708</td>\n",
       "    </tr>\n",
       "    <tr>\n",
       "      <th>41</th>\n",
       "      <td>10.26</td>\n",
       "      <td>13.058961</td>\n",
       "      <td>-2.798961</td>\n",
       "    </tr>\n",
       "    <tr>\n",
       "      <th>11</th>\n",
       "      <td>145.23</td>\n",
       "      <td>142.624500</td>\n",
       "      <td>2.605500</td>\n",
       "    </tr>\n",
       "    <tr>\n",
       "      <th>10</th>\n",
       "      <td>85.71</td>\n",
       "      <td>89.035500</td>\n",
       "      <td>-3.325500</td>\n",
       "    </tr>\n",
       "    <tr>\n",
       "      <th>0</th>\n",
       "      <td>12.24</td>\n",
       "      <td>13.050913</td>\n",
       "      <td>-0.810913</td>\n",
       "    </tr>\n",
       "    <tr>\n",
       "      <th>28</th>\n",
       "      <td>31.93</td>\n",
       "      <td>27.321536</td>\n",
       "      <td>4.608464</td>\n",
       "    </tr>\n",
       "    <tr>\n",
       "      <th>17</th>\n",
       "      <td>18.03</td>\n",
       "      <td>18.801000</td>\n",
       "      <td>-0.771000</td>\n",
       "    </tr>\n",
       "    <tr>\n",
       "      <th>54</th>\n",
       "      <td>76.44</td>\n",
       "      <td>72.321742</td>\n",
       "      <td>4.118258</td>\n",
       "    </tr>\n",
       "    <tr>\n",
       "      <th>19</th>\n",
       "      <td>65.97</td>\n",
       "      <td>68.911750</td>\n",
       "      <td>-2.941750</td>\n",
       "    </tr>\n",
       "  </tbody>\n",
       "</table>\n",
       "</div>"
      ],
      "text/plain": [
       "    Actual Value  Predicted Value  Difference\n",
       "22         34.06        32.989367    1.070633\n",
       "7          69.14        67.608292    1.531708\n",
       "41         10.26        13.058961   -2.798961\n",
       "11        145.23       142.624500    2.605500\n",
       "10         85.71        89.035500   -3.325500\n",
       "0          12.24        13.050913   -0.810913\n",
       "28         31.93        27.321536    4.608464\n",
       "17         18.03        18.801000   -0.771000\n",
       "54         76.44        72.321742    4.118258\n",
       "19         65.97        68.911750   -2.941750"
      ]
     },
     "execution_count": 87,
     "metadata": {},
     "output_type": "execute_result"
    }
   ],
   "source": [
    "predicted_value = pd.DataFrame({'Actual Value': y_test, 'Predicted Value': rf_pred, 'Difference': y_test - rf_pred})\n",
    "predicted_value.sample(10)"
   ]
  },
  {
   "cell_type": "markdown",
   "id": "7e0841f0-a7cf-4bed-96ee-977d2a16f763",
   "metadata": {},
   "source": [
    "### Decision Tree Regressor"
   ]
  },
  {
   "cell_type": "code",
   "execution_count": 89,
   "id": "2fc9c679-a0bd-41b5-b48c-ba1000eddc9c",
   "metadata": {},
   "outputs": [
    {
     "name": "stdout",
     "output_type": "stream",
     "text": [
      "MSE: 122.00415357142856\n",
      "RMSE : 11.045549038930956\n",
      "R2 for Decision Tree Regressor :  98.52427965092096\n"
     ]
    }
   ],
   "source": [
    "from sklearn.tree import DecisionTreeRegressor\n",
    "decision_tree = DecisionTreeRegressor(max_depth=14)\n",
    "\n",
    "decision_tree.fit(x_train, y_train)\n",
    " \n",
    "DT_pred = decision_tree.predict(x_test)\n",
    "DT_train = decision_tree.predict(x_train)\n",
    "\n",
    "MSE = mean_squared_error(y_test,DT_pred)\n",
    "print(\"MSE:\", MSE)\n",
    "\n",
    "RMSE = np.sqrt(MSE)\n",
    "print(\"RMSE :\" , RMSE)\n",
    "\n",
    "r2 = r2_score(y_test, DT_pred)\n",
    "print(\"R2 for Decision Tree Regressor : \", r2*100)"
   ]
  },
  {
   "cell_type": "code",
   "execution_count": 90,
   "id": "fa7e78c8-d17d-4720-8912-82d9e1908b76",
   "metadata": {},
   "outputs": [
    {
     "name": "stdout",
     "output_type": "stream",
     "text": [
      "Trainig Score:  100.0 %\n",
      "Testing Score:  98.52427965092096 %\n"
     ]
    }
   ],
   "source": [
    "print(\"Trainig Score: \",(decision_tree.score(x_train, y_train))*100,\"%\")\n",
    "print(\"Testing Score: \",(decision_tree.score(x_test, y_test))*100,\"%\")"
   ]
  },
  {
   "cell_type": "code",
   "execution_count": 91,
   "id": "918fdb0b-e178-4b44-8502-9320584b0e5a",
   "metadata": {},
   "outputs": [
    {
     "data": {
      "text/html": [
       "<div>\n",
       "<style scoped>\n",
       "    .dataframe tbody tr th:only-of-type {\n",
       "        vertical-align: middle;\n",
       "    }\n",
       "\n",
       "    .dataframe tbody tr th {\n",
       "        vertical-align: top;\n",
       "    }\n",
       "\n",
       "    .dataframe thead th {\n",
       "        text-align: right;\n",
       "    }\n",
       "</style>\n",
       "<table border=\"1\" class=\"dataframe\">\n",
       "  <thead>\n",
       "    <tr style=\"text-align: right;\">\n",
       "      <th></th>\n",
       "      <th>Actual Value</th>\n",
       "      <th>Predicted Value</th>\n",
       "      <th>Difference</th>\n",
       "    </tr>\n",
       "  </thead>\n",
       "  <tbody>\n",
       "    <tr>\n",
       "      <th>13</th>\n",
       "      <td>149.38</td>\n",
       "      <td>137.90</td>\n",
       "      <td>11.48</td>\n",
       "    </tr>\n",
       "    <tr>\n",
       "      <th>55</th>\n",
       "      <td>13.42</td>\n",
       "      <td>14.67</td>\n",
       "      <td>-1.25</td>\n",
       "    </tr>\n",
       "    <tr>\n",
       "      <th>34</th>\n",
       "      <td>234.28</td>\n",
       "      <td>253.52</td>\n",
       "      <td>-19.24</td>\n",
       "    </tr>\n",
       "    <tr>\n",
       "      <th>31</th>\n",
       "      <td>275.05</td>\n",
       "      <td>279.10</td>\n",
       "      <td>-4.05</td>\n",
       "    </tr>\n",
       "    <tr>\n",
       "      <th>28</th>\n",
       "      <td>31.93</td>\n",
       "      <td>26.83</td>\n",
       "      <td>5.10</td>\n",
       "    </tr>\n",
       "    <tr>\n",
       "      <th>3</th>\n",
       "      <td>154.57</td>\n",
       "      <td>147.95</td>\n",
       "      <td>6.62</td>\n",
       "    </tr>\n",
       "    <tr>\n",
       "      <th>47</th>\n",
       "      <td>70.30</td>\n",
       "      <td>62.54</td>\n",
       "      <td>7.76</td>\n",
       "    </tr>\n",
       "    <tr>\n",
       "      <th>42</th>\n",
       "      <td>61.02</td>\n",
       "      <td>62.13</td>\n",
       "      <td>-1.11</td>\n",
       "    </tr>\n",
       "    <tr>\n",
       "      <th>30</th>\n",
       "      <td>221.30</td>\n",
       "      <td>206.39</td>\n",
       "      <td>14.91</td>\n",
       "    </tr>\n",
       "    <tr>\n",
       "      <th>7</th>\n",
       "      <td>69.14</td>\n",
       "      <td>66.02</td>\n",
       "      <td>3.12</td>\n",
       "    </tr>\n",
       "  </tbody>\n",
       "</table>\n",
       "</div>"
      ],
      "text/plain": [
       "    Actual Value  Predicted Value  Difference\n",
       "13        149.38           137.90       11.48\n",
       "55         13.42            14.67       -1.25\n",
       "34        234.28           253.52      -19.24\n",
       "31        275.05           279.10       -4.05\n",
       "28         31.93            26.83        5.10\n",
       "3         154.57           147.95        6.62\n",
       "47         70.30            62.54        7.76\n",
       "42         61.02            62.13       -1.11\n",
       "30        221.30           206.39       14.91\n",
       "7          69.14            66.02        3.12"
      ]
     },
     "execution_count": 91,
     "metadata": {},
     "output_type": "execute_result"
    }
   ],
   "source": [
    "predicted_value = pd.DataFrame({'Actual Value': y_test, 'Predicted Value': DT_pred, 'Difference': y_test - DT_pred})\n",
    "predicted_value.sample(10)"
   ]
  },
  {
   "cell_type": "markdown",
   "id": "9e3013c5-82dd-4265-b992-b947a9ccdc01",
   "metadata": {},
   "source": [
    "### Support Vector Machine"
   ]
  },
  {
   "cell_type": "code",
   "execution_count": 93,
   "id": "8d97ca2c-d70a-435f-a063-dc19be4fe9e3",
   "metadata": {},
   "outputs": [
    {
     "name": "stdout",
     "output_type": "stream",
     "text": [
      " MSE: 131.0135090036122\n",
      " RMSE: 11.446113270609032\n",
      " R2: 98.4153055811523\n"
     ]
    }
   ],
   "source": [
    "from sklearn.svm import SVR\n",
    "from sklearn.metrics import mean_squared_error, r2_score\n",
    "\n",
    "svm = SVR( C=100, gamma=0.1, epsilon=0.1)\n",
    "\n",
    "svm.fit(x_train, y_train)\n",
    "\n",
    "y_train_pred = svm.predict(x_train)\n",
    "y_test_pred = svm.predict(x_test)\n",
    "\n",
    "MSE_test = mean_squared_error(y_test, y_test_pred)\n",
    "\n",
    "RMSE_test = np.sqrt(MSE_test)\n",
    "\n",
    "r2_test = r2_score(y_test, y_test_pred)\n",
    "print(\" MSE:\", MSE_test)\n",
    "print(\" RMSE:\", RMSE_test)\n",
    "print(\" R2:\", r2_test * 100)"
   ]
  },
  {
   "cell_type": "code",
   "execution_count": 94,
   "id": "89bf8bcd-c5dc-4623-b6e4-00178874fca6",
   "metadata": {},
   "outputs": [
    {
     "name": "stdout",
     "output_type": "stream",
     "text": [
      "Trainig Score:  98.91302476113175 %\n",
      "Testing Score:  98.4153055811523 %\n"
     ]
    }
   ],
   "source": [
    "print(\"Trainig Score: \",(svm.score(x_train, y_train))*100,\"%\")\n",
    "print(\"Testing Score: \",(svm.score(x_test, y_test))*100,\"%\")"
   ]
  },
  {
   "cell_type": "code",
   "execution_count": 95,
   "id": "dcdb9439-0752-479e-adae-19e80ef1429f",
   "metadata": {},
   "outputs": [
    {
     "data": {
      "text/html": [
       "<div>\n",
       "<style scoped>\n",
       "    .dataframe tbody tr th:only-of-type {\n",
       "        vertical-align: middle;\n",
       "    }\n",
       "\n",
       "    .dataframe tbody tr th {\n",
       "        vertical-align: top;\n",
       "    }\n",
       "\n",
       "    .dataframe thead th {\n",
       "        text-align: right;\n",
       "    }\n",
       "</style>\n",
       "<table border=\"1\" class=\"dataframe\">\n",
       "  <thead>\n",
       "    <tr style=\"text-align: right;\">\n",
       "      <th></th>\n",
       "      <th>Actual Value</th>\n",
       "      <th>Predicted Value</th>\n",
       "      <th>Difference</th>\n",
       "    </tr>\n",
       "  </thead>\n",
       "  <tbody>\n",
       "    <tr>\n",
       "      <th>12</th>\n",
       "      <td>34.55</td>\n",
       "      <td>30.977056</td>\n",
       "      <td>3.572944</td>\n",
       "    </tr>\n",
       "    <tr>\n",
       "      <th>35</th>\n",
       "      <td>53.83</td>\n",
       "      <td>56.625845</td>\n",
       "      <td>-2.795845</td>\n",
       "    </tr>\n",
       "    <tr>\n",
       "      <th>2</th>\n",
       "      <td>111.70</td>\n",
       "      <td>113.836363</td>\n",
       "      <td>-2.136363</td>\n",
       "    </tr>\n",
       "    <tr>\n",
       "      <th>22</th>\n",
       "      <td>34.06</td>\n",
       "      <td>34.339945</td>\n",
       "      <td>-0.279945</td>\n",
       "    </tr>\n",
       "    <tr>\n",
       "      <th>8</th>\n",
       "      <td>57.57</td>\n",
       "      <td>53.221077</td>\n",
       "      <td>4.348923</td>\n",
       "    </tr>\n",
       "    <tr>\n",
       "      <th>30</th>\n",
       "      <td>221.30</td>\n",
       "      <td>225.110396</td>\n",
       "      <td>-3.810396</td>\n",
       "    </tr>\n",
       "    <tr>\n",
       "      <th>7</th>\n",
       "      <td>69.14</td>\n",
       "      <td>69.174565</td>\n",
       "      <td>-0.034565</td>\n",
       "    </tr>\n",
       "    <tr>\n",
       "      <th>37</th>\n",
       "      <td>12.46</td>\n",
       "      <td>12.817596</td>\n",
       "      <td>-0.357596</td>\n",
       "    </tr>\n",
       "    <tr>\n",
       "      <th>21</th>\n",
       "      <td>60.95</td>\n",
       "      <td>56.245440</td>\n",
       "      <td>4.704560</td>\n",
       "    </tr>\n",
       "    <tr>\n",
       "      <th>50</th>\n",
       "      <td>176.52</td>\n",
       "      <td>179.671088</td>\n",
       "      <td>-3.151088</td>\n",
       "    </tr>\n",
       "  </tbody>\n",
       "</table>\n",
       "</div>"
      ],
      "text/plain": [
       "    Actual Value  Predicted Value  Difference\n",
       "12         34.55        30.977056    3.572944\n",
       "35         53.83        56.625845   -2.795845\n",
       "2         111.70       113.836363   -2.136363\n",
       "22         34.06        34.339945   -0.279945\n",
       "8          57.57        53.221077    4.348923\n",
       "30        221.30       225.110396   -3.810396\n",
       "7          69.14        69.174565   -0.034565\n",
       "37         12.46        12.817596   -0.357596\n",
       "21         60.95        56.245440    4.704560\n",
       "50        176.52       179.671088   -3.151088"
      ]
     },
     "execution_count": 95,
     "metadata": {},
     "output_type": "execute_result"
    }
   ],
   "source": [
    "predicted_value = pd.DataFrame({'Actual Value': y_test, 'Predicted Value': y_test_pred, 'Difference': y_test - y_test_pred})\n",
    "predicted_value.sample(10)"
   ]
  },
  {
   "cell_type": "markdown",
   "id": "ad0ce645-4599-4392-9537-1780d0844d30",
   "metadata": {},
   "source": [
    "### K Nearest Neighbor"
   ]
  },
  {
   "cell_type": "code",
   "execution_count": 97,
   "id": "06932823-0b2b-415b-9ef2-6bc25a63d233",
   "metadata": {},
   "outputs": [],
   "source": [
    "from sklearn.neighbors import KNeighborsRegressor\n",
    "\n",
    "knn = KNeighborsRegressor(n_neighbors=5)  \n",
    "\n",
    "knn.fit(x_train, y_train)\n",
    " \n",
    "train_score = knn.score(x_train, y_train)  \n",
    "test_score = knn.score(x_test, y_test)  \n"
   ]
  },
  {
   "cell_type": "code",
   "execution_count": 98,
   "id": "cc37258a-04a6-4b3f-acc3-bd7750610d3e",
   "metadata": {},
   "outputs": [
    {
     "name": "stdout",
     "output_type": "stream",
     "text": [
      "Training Score: 97.18110451965826\n",
      "Testing Score: 94.11133428678721\n"
     ]
    }
   ],
   "source": [
    "print(\"Training Score:\", train_score * 100)  \n",
    "print(\"Testing Score:\", test_score * 100)    "
   ]
  },
  {
   "cell_type": "markdown",
   "id": "0d0a18dc-23b3-4640-b6cd-fc3dc33fe8be",
   "metadata": {},
   "source": [
    "### Performing Cross Validation"
   ]
  },
  {
   "cell_type": "code",
   "execution_count": 100,
   "id": "407b1e7b-d71d-4317-a531-768760a6ddf8",
   "metadata": {},
   "outputs": [],
   "source": [
    "from sklearn.model_selection import cross_val_score"
   ]
  },
  {
   "cell_type": "code",
   "execution_count": 101,
   "id": "2f0a59f1-e511-4c93-a601-718c5aa71628",
   "metadata": {},
   "outputs": [
    {
     "name": "stdout",
     "output_type": "stream",
     "text": [
      "Training: 94 %\n",
      "Testing: 88 %\n"
     ]
    }
   ],
   "source": [
    "print(\"Training:\", ((cross_val_score(knn, x_train, y_train))*100).mean().astype(int), \"%\")\n",
    "print(\"Testing:\", ((cross_val_score(knn, x_test, y_test))*100).mean().astype(int), \"%\")"
   ]
  },
  {
   "cell_type": "markdown",
   "id": "3ff10242-c9d8-47dd-ba97-7a6b863013dd",
   "metadata": {},
   "source": [
    "### Printing all Scores using DataFrame"
   ]
  },
  {
   "cell_type": "code",
   "execution_count": 103,
   "id": "b7e260c9-0986-4d73-88c4-ad582b2e4e92",
   "metadata": {},
   "outputs": [
    {
     "data": {
      "text/html": [
       "<div>\n",
       "<style scoped>\n",
       "    .dataframe tbody tr th:only-of-type {\n",
       "        vertical-align: middle;\n",
       "    }\n",
       "\n",
       "    .dataframe tbody tr th {\n",
       "        vertical-align: top;\n",
       "    }\n",
       "\n",
       "    .dataframe thead th {\n",
       "        text-align: right;\n",
       "    }\n",
       "</style>\n",
       "<table border=\"1\" class=\"dataframe\">\n",
       "  <thead>\n",
       "    <tr style=\"text-align: right;\">\n",
       "      <th></th>\n",
       "      <th>Training Score</th>\n",
       "      <th>Test Score</th>\n",
       "    </tr>\n",
       "  </thead>\n",
       "  <tbody>\n",
       "    <tr>\n",
       "      <th>Linear Regression</th>\n",
       "      <td>99.629357</td>\n",
       "      <td>99.151567</td>\n",
       "    </tr>\n",
       "    <tr>\n",
       "      <th>Random Forest Regressor</th>\n",
       "      <td>99.746228</td>\n",
       "      <td>98.518548</td>\n",
       "    </tr>\n",
       "    <tr>\n",
       "      <th>Decision Tress Regressor</th>\n",
       "      <td>100.000000</td>\n",
       "      <td>98.524280</td>\n",
       "    </tr>\n",
       "    <tr>\n",
       "      <th>Support Vector Machine</th>\n",
       "      <td>98.913025</td>\n",
       "      <td>98.415306</td>\n",
       "    </tr>\n",
       "    <tr>\n",
       "      <th>K Nearest Neighbor</th>\n",
       "      <td>97.181105</td>\n",
       "      <td>94.111334</td>\n",
       "    </tr>\n",
       "  </tbody>\n",
       "</table>\n",
       "</div>"
      ],
      "text/plain": [
       "                          Training Score  Test Score\n",
       "Linear Regression              99.629357   99.151567\n",
       "Random Forest Regressor        99.746228   98.518548\n",
       "Decision Tress Regressor      100.000000   98.524280\n",
       "Support Vector Machine         98.913025   98.415306\n",
       "K Nearest Neighbor             97.181105   94.111334"
      ]
     },
     "execution_count": 103,
     "metadata": {},
     "output_type": "execute_result"
    }
   ],
   "source": [
    "all_scores = pd.DataFrame({'Linear Regression': ((lr.score(x_train, y_train))*100, (lr.score(x_test, y_test))*100),\n",
    "                           'Random Forest Regressor': ((random_forest.score(x_train, y_train))*100, (random_forest.score(x_test, y_test))*100),\n",
    "                           'Decision Tress Regressor': ((decision_tree.score(x_train, y_train))*100, (decision_tree.score(x_test, y_test))*100),\n",
    "                           'Support Vector Machine': ((svm.score(x_train, y_train))*100, (svm.score(x_test, y_test))*100),\n",
    "                           'K Nearest Neighbor': ((knn.score(x_train, y_train))*100, (knn.score(x_test, y_test))*100),})\n",
    "all_scores.T.rename(columns = {0:'Training Score', 1 : 'Test Score'})\n",
    "     "
   ]
  },
  {
   "cell_type": "markdown",
   "id": "9b4804d2-f02a-4879-bee7-1816bf4d7a25",
   "metadata": {},
   "source": [
    "### Observation"
   ]
  },
  {
   "cell_type": "markdown",
   "id": "41f6ae3e-32a7-44bc-986b-07570ff50179",
   "metadata": {},
   "source": [
    "**Linear Regression**: Model is excellent fit and generalization.<br>\n",
    "**Random Forest Regressor** : Model shows generalizaton.<br>\n",
    "**Decision Tree Regressor** : Model shows 100% train score, little overfit.<br>\n",
    "**SVM** : Shows perfect accuracy.<br>\n",
    "**KNN** : Shows good accuracy.<br>\n",
    "**Cross Validation** : cross-validation working decent, needs hyperparameter tuning."
   ]
  },
  {
   "cell_type": "code",
   "execution_count": null,
   "id": "a5f75758-3fe4-4b33-bc81-86312385dff1",
   "metadata": {},
   "outputs": [],
   "source": []
  },
  {
   "cell_type": "code",
   "execution_count": null,
   "id": "3f47ef86-9a76-4aa6-a70b-f47ecd2e6203",
   "metadata": {},
   "outputs": [],
   "source": []
  },
  {
   "cell_type": "code",
   "execution_count": null,
   "id": "f744ac12-23c5-4ab9-8aa1-3ed6ed1c47fb",
   "metadata": {},
   "outputs": [],
   "source": []
  },
  {
   "cell_type": "code",
   "execution_count": null,
   "id": "b5a9bf03-8f4a-42c6-a335-995b0c3fddf4",
   "metadata": {},
   "outputs": [],
   "source": []
  },
  {
   "cell_type": "code",
   "execution_count": null,
   "id": "33e8c350-a7ca-497e-9b83-c5d2d1df6204",
   "metadata": {},
   "outputs": [],
   "source": []
  },
  {
   "cell_type": "code",
   "execution_count": null,
   "id": "3335cc64-bad3-4c67-a927-d5c13e74206e",
   "metadata": {},
   "outputs": [],
   "source": []
  },
  {
   "cell_type": "code",
   "execution_count": null,
   "id": "64a542b5-d9e5-4aef-a22c-a187c0a6b6cc",
   "metadata": {},
   "outputs": [],
   "source": []
  },
  {
   "cell_type": "code",
   "execution_count": null,
   "id": "52c7b1f2-289c-4d19-b32b-71954e792324",
   "metadata": {},
   "outputs": [],
   "source": []
  },
  {
   "cell_type": "code",
   "execution_count": null,
   "id": "30982bfd-aa14-4938-a00b-ce79e192f9db",
   "metadata": {},
   "outputs": [],
   "source": []
  },
  {
   "cell_type": "code",
   "execution_count": null,
   "id": "f1e2dbcd-9853-4a03-bfbb-7d8e1d6269af",
   "metadata": {},
   "outputs": [],
   "source": []
  },
  {
   "cell_type": "code",
   "execution_count": null,
   "id": "85108d7c-aa3b-41ef-8779-59b2c101ab9d",
   "metadata": {},
   "outputs": [],
   "source": []
  },
  {
   "cell_type": "code",
   "execution_count": null,
   "id": "c1aef133-011c-4f1c-ab29-caf76e2df1a0",
   "metadata": {},
   "outputs": [],
   "source": []
  },
  {
   "cell_type": "code",
   "execution_count": null,
   "id": "66deb7e6-8d50-4a27-a741-ae94116fa8b1",
   "metadata": {},
   "outputs": [],
   "source": []
  },
  {
   "cell_type": "code",
   "execution_count": null,
   "id": "e7428759-9c24-47a3-b816-e7eee86b6474",
   "metadata": {},
   "outputs": [],
   "source": []
  },
  {
   "cell_type": "code",
   "execution_count": null,
   "id": "3e4ff658-12bd-4bf8-87be-e3f768b13f29",
   "metadata": {},
   "outputs": [],
   "source": []
  },
  {
   "cell_type": "code",
   "execution_count": null,
   "id": "6d999284-f97f-44c6-a1d6-5bb268aecc3a",
   "metadata": {},
   "outputs": [],
   "source": []
  },
  {
   "cell_type": "code",
   "execution_count": null,
   "id": "e4714d76-42e7-4f7c-aa6f-bcacd7c1c45c",
   "metadata": {},
   "outputs": [],
   "source": []
  },
  {
   "cell_type": "code",
   "execution_count": null,
   "id": "388853c3-016a-4311-b2b2-4e5d7d0af019",
   "metadata": {},
   "outputs": [],
   "source": []
  },
  {
   "cell_type": "code",
   "execution_count": null,
   "id": "40096a09-6f62-411d-872f-38425911be2a",
   "metadata": {},
   "outputs": [],
   "source": []
  },
  {
   "cell_type": "code",
   "execution_count": null,
   "id": "23aaa23c-b789-41ba-b39f-67da3c6928e4",
   "metadata": {},
   "outputs": [],
   "source": []
  },
  {
   "cell_type": "code",
   "execution_count": null,
   "id": "9f70ef1c-7cb9-43c4-ace4-8fc6dbbed0c2",
   "metadata": {},
   "outputs": [],
   "source": []
  },
  {
   "cell_type": "code",
   "execution_count": null,
   "id": "7176d3e0-461d-4f25-a37a-639c08f1f3fc",
   "metadata": {},
   "outputs": [],
   "source": []
  },
  {
   "cell_type": "code",
   "execution_count": null,
   "id": "8c278d7a-26f0-42f9-9580-f2296002fdb0",
   "metadata": {},
   "outputs": [],
   "source": []
  },
  {
   "cell_type": "code",
   "execution_count": null,
   "id": "9f8e9512-5e5f-441f-826f-5c56a43e6e36",
   "metadata": {},
   "outputs": [],
   "source": []
  },
  {
   "cell_type": "code",
   "execution_count": null,
   "id": "ca7356c0-cd60-49f2-907a-7483a811f045",
   "metadata": {},
   "outputs": [],
   "source": []
  },
  {
   "cell_type": "code",
   "execution_count": null,
   "id": "25ed8d74-685c-4fab-9d6f-4cc2e563949a",
   "metadata": {},
   "outputs": [],
   "source": []
  },
  {
   "cell_type": "code",
   "execution_count": null,
   "id": "6738c10b-8417-4811-a82d-952f8edc68d9",
   "metadata": {},
   "outputs": [],
   "source": []
  },
  {
   "cell_type": "code",
   "execution_count": null,
   "id": "5b639422-857c-40fd-8520-65b6acb148c5",
   "metadata": {},
   "outputs": [],
   "source": []
  },
  {
   "cell_type": "code",
   "execution_count": null,
   "id": "adfa50ba-a410-492c-950d-92a582500646",
   "metadata": {},
   "outputs": [],
   "source": []
  },
  {
   "cell_type": "code",
   "execution_count": null,
   "id": "7b3f67a2-a00c-4853-9d43-d7ad94ebca47",
   "metadata": {},
   "outputs": [],
   "source": []
  },
  {
   "cell_type": "code",
   "execution_count": null,
   "id": "e7649dc7-8169-4862-92d4-e8e7448e4bba",
   "metadata": {},
   "outputs": [],
   "source": []
  },
  {
   "cell_type": "code",
   "execution_count": null,
   "id": "aee0c51c-2445-4d6f-abc9-81e6233228fb",
   "metadata": {},
   "outputs": [],
   "source": []
  },
  {
   "cell_type": "code",
   "execution_count": null,
   "id": "4df03030-f27b-4669-9f2c-7ad97e1ddd45",
   "metadata": {},
   "outputs": [],
   "source": []
  },
  {
   "cell_type": "code",
   "execution_count": null,
   "id": "890965d2-4445-46ad-a805-99279d81f4b2",
   "metadata": {},
   "outputs": [],
   "source": []
  },
  {
   "cell_type": "code",
   "execution_count": null,
   "id": "87cba39b-cd79-46b2-bcb2-390c640c40ed",
   "metadata": {},
   "outputs": [],
   "source": []
  },
  {
   "cell_type": "code",
   "execution_count": null,
   "id": "dc742670-dbec-4b0e-a48d-103b52ea9f8d",
   "metadata": {},
   "outputs": [],
   "source": []
  },
  {
   "cell_type": "code",
   "execution_count": null,
   "id": "bee05085-3791-459d-95f6-7abd9efec1b8",
   "metadata": {},
   "outputs": [],
   "source": []
  },
  {
   "cell_type": "code",
   "execution_count": null,
   "id": "b7be5bdb-b139-42ac-a038-e8272e2593ae",
   "metadata": {},
   "outputs": [],
   "source": []
  },
  {
   "cell_type": "code",
   "execution_count": null,
   "id": "33757a1f-5f28-463e-a4ca-69ae53524492",
   "metadata": {},
   "outputs": [],
   "source": []
  },
  {
   "cell_type": "code",
   "execution_count": null,
   "id": "c767a670-0a43-4620-b8ee-edccc1adfd1a",
   "metadata": {},
   "outputs": [],
   "source": []
  },
  {
   "cell_type": "code",
   "execution_count": null,
   "id": "b5ff07c6-f3a7-472e-9358-01ac59b6f6bd",
   "metadata": {},
   "outputs": [],
   "source": []
  },
  {
   "cell_type": "code",
   "execution_count": null,
   "id": "8663b17b-f9e7-4bb8-aa70-ab8056db38a2",
   "metadata": {},
   "outputs": [],
   "source": []
  },
  {
   "cell_type": "code",
   "execution_count": null,
   "id": "46b68f21-e93d-4679-846f-345ca3ff39fd",
   "metadata": {},
   "outputs": [],
   "source": []
  },
  {
   "cell_type": "code",
   "execution_count": null,
   "id": "2d816da9-d7c6-4282-b762-a466844f7d66",
   "metadata": {},
   "outputs": [],
   "source": []
  },
  {
   "cell_type": "code",
   "execution_count": null,
   "id": "2e2ad343-b84f-418f-aaa3-266fa6cbbb52",
   "metadata": {},
   "outputs": [],
   "source": []
  },
  {
   "cell_type": "code",
   "execution_count": null,
   "id": "f091fa13-6e59-466f-98a2-d25f92a90f73",
   "metadata": {},
   "outputs": [],
   "source": []
  }
 ],
 "metadata": {
  "kernelspec": {
   "display_name": "Python [conda env:base] *",
   "language": "python",
   "name": "conda-base-py"
  },
  "language_info": {
   "codemirror_mode": {
    "name": "ipython",
    "version": 3
   },
   "file_extension": ".py",
   "mimetype": "text/x-python",
   "name": "python",
   "nbconvert_exporter": "python",
   "pygments_lexer": "ipython3",
   "version": "3.12.4"
  }
 },
 "nbformat": 4,
 "nbformat_minor": 5
}
